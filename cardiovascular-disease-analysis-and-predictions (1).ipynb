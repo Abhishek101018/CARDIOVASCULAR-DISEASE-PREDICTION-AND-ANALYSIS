{
 "cells": [
  {
   "cell_type": "markdown",
   "metadata": {},
   "source": [
    "## Cardiovascular Disease Project Introduction"
   ]
  },
  {
   "cell_type": "code",
   "execution_count": 1,
   "metadata": {
    "execution": {
     "iopub.execute_input": "2023-02-08T06:40:27.558169Z",
     "iopub.status.busy": "2023-02-08T06:40:27.557895Z",
     "iopub.status.idle": "2023-02-08T06:40:28.547350Z",
     "shell.execute_reply": "2023-02-08T06:40:28.546421Z",
     "shell.execute_reply.started": "2023-02-08T06:40:27.558119Z"
    }
   },
   "outputs": [],
   "source": [
    "import numpy as np\n",
    "import pandas as pd\n",
    "import matplotlib.pyplot as plt\n",
    "import seaborn as sns\n",
    "sns.set()\n",
    "%matplotlib inline"
   ]
  },
  {
   "cell_type": "code",
   "execution_count": 2,
   "metadata": {
    "execution": {
     "iopub.execute_input": "2023-02-08T06:40:28.550324Z",
     "iopub.status.busy": "2023-02-08T06:40:28.549744Z",
     "iopub.status.idle": "2023-02-08T06:40:28.723074Z",
     "shell.execute_reply": "2023-02-08T06:40:28.722118Z",
     "shell.execute_reply.started": "2023-02-08T06:40:28.550270Z"
    },
    "scrolled": true
   },
   "outputs": [
    {
     "data": {
      "text/html": [
       "<div>\n",
       "<style scoped>\n",
       "    .dataframe tbody tr th:only-of-type {\n",
       "        vertical-align: middle;\n",
       "    }\n",
       "\n",
       "    .dataframe tbody tr th {\n",
       "        vertical-align: top;\n",
       "    }\n",
       "\n",
       "    .dataframe thead th {\n",
       "        text-align: right;\n",
       "    }\n",
       "</style>\n",
       "<table border=\"1\" class=\"dataframe\">\n",
       "  <thead>\n",
       "    <tr style=\"text-align: right;\">\n",
       "      <th></th>\n",
       "      <th>id</th>\n",
       "      <th>age</th>\n",
       "      <th>gender</th>\n",
       "      <th>height</th>\n",
       "      <th>weight</th>\n",
       "      <th>ap_hi</th>\n",
       "      <th>ap_lo</th>\n",
       "      <th>cholesterol</th>\n",
       "      <th>gluc</th>\n",
       "      <th>smoke</th>\n",
       "      <th>alco</th>\n",
       "      <th>active</th>\n",
       "      <th>cardio</th>\n",
       "    </tr>\n",
       "  </thead>\n",
       "  <tbody>\n",
       "    <tr>\n",
       "      <th>0</th>\n",
       "      <td>0</td>\n",
       "      <td>18393</td>\n",
       "      <td>2</td>\n",
       "      <td>168</td>\n",
       "      <td>62.0</td>\n",
       "      <td>110</td>\n",
       "      <td>80</td>\n",
       "      <td>1</td>\n",
       "      <td>1</td>\n",
       "      <td>0</td>\n",
       "      <td>0</td>\n",
       "      <td>1</td>\n",
       "      <td>0</td>\n",
       "    </tr>\n",
       "    <tr>\n",
       "      <th>1</th>\n",
       "      <td>1</td>\n",
       "      <td>20228</td>\n",
       "      <td>1</td>\n",
       "      <td>156</td>\n",
       "      <td>85.0</td>\n",
       "      <td>140</td>\n",
       "      <td>90</td>\n",
       "      <td>3</td>\n",
       "      <td>1</td>\n",
       "      <td>0</td>\n",
       "      <td>0</td>\n",
       "      <td>1</td>\n",
       "      <td>1</td>\n",
       "    </tr>\n",
       "    <tr>\n",
       "      <th>2</th>\n",
       "      <td>2</td>\n",
       "      <td>18857</td>\n",
       "      <td>1</td>\n",
       "      <td>165</td>\n",
       "      <td>64.0</td>\n",
       "      <td>130</td>\n",
       "      <td>70</td>\n",
       "      <td>3</td>\n",
       "      <td>1</td>\n",
       "      <td>0</td>\n",
       "      <td>0</td>\n",
       "      <td>0</td>\n",
       "      <td>1</td>\n",
       "    </tr>\n",
       "    <tr>\n",
       "      <th>3</th>\n",
       "      <td>3</td>\n",
       "      <td>17623</td>\n",
       "      <td>2</td>\n",
       "      <td>169</td>\n",
       "      <td>82.0</td>\n",
       "      <td>150</td>\n",
       "      <td>100</td>\n",
       "      <td>1</td>\n",
       "      <td>1</td>\n",
       "      <td>0</td>\n",
       "      <td>0</td>\n",
       "      <td>1</td>\n",
       "      <td>1</td>\n",
       "    </tr>\n",
       "    <tr>\n",
       "      <th>4</th>\n",
       "      <td>4</td>\n",
       "      <td>17474</td>\n",
       "      <td>1</td>\n",
       "      <td>156</td>\n",
       "      <td>56.0</td>\n",
       "      <td>100</td>\n",
       "      <td>60</td>\n",
       "      <td>1</td>\n",
       "      <td>1</td>\n",
       "      <td>0</td>\n",
       "      <td>0</td>\n",
       "      <td>0</td>\n",
       "      <td>0</td>\n",
       "    </tr>\n",
       "  </tbody>\n",
       "</table>\n",
       "</div>"
      ],
      "text/plain": [
       "   id    age  gender  height  weight  ap_hi  ap_lo  cholesterol  gluc  smoke  \\\n",
       "0   0  18393       2     168    62.0    110     80            1     1      0   \n",
       "1   1  20228       1     156    85.0    140     90            3     1      0   \n",
       "2   2  18857       1     165    64.0    130     70            3     1      0   \n",
       "3   3  17623       2     169    82.0    150    100            1     1      0   \n",
       "4   4  17474       1     156    56.0    100     60            1     1      0   \n",
       "\n",
       "   alco  active  cardio  \n",
       "0     0       1       0  \n",
       "1     0       1       1  \n",
       "2     0       0       1  \n",
       "3     0       1       1  \n",
       "4     0       0       0  "
      ]
     },
     "execution_count": 2,
     "metadata": {},
     "output_type": "execute_result"
    }
   ],
   "source": [
    "df = pd.read_csv('/kaggle/input/cardiovascular-disease-dataset/cardio_train.csv', sep=';')\n",
    "df.head()"
   ]
  },
  {
   "cell_type": "code",
   "execution_count": 3,
   "metadata": {
    "execution": {
     "iopub.execute_input": "2023-02-08T06:40:28.725661Z",
     "iopub.status.busy": "2023-02-08T06:40:28.725057Z",
     "iopub.status.idle": "2023-02-08T06:40:28.731285Z",
     "shell.execute_reply": "2023-02-08T06:40:28.730441Z",
     "shell.execute_reply.started": "2023-02-08T06:40:28.725606Z"
    }
   },
   "outputs": [
    {
     "data": {
      "text/plain": [
       "(70000, 13)"
      ]
     },
     "execution_count": 3,
     "metadata": {},
     "output_type": "execute_result"
    }
   ],
   "source": [
    "df.shape"
   ]
  },
  {
   "cell_type": "code",
   "execution_count": 4,
   "metadata": {
    "execution": {
     "iopub.execute_input": "2023-02-08T06:40:28.733356Z",
     "iopub.status.busy": "2023-02-08T06:40:28.732776Z",
     "iopub.status.idle": "2023-02-08T06:40:28.747545Z",
     "shell.execute_reply": "2023-02-08T06:40:28.746710Z",
     "shell.execute_reply.started": "2023-02-08T06:40:28.733305Z"
    }
   },
   "outputs": [
    {
     "data": {
      "text/plain": [
       "id             0\n",
       "age            0\n",
       "gender         0\n",
       "height         0\n",
       "weight         0\n",
       "ap_hi          0\n",
       "ap_lo          0\n",
       "cholesterol    0\n",
       "gluc           0\n",
       "smoke          0\n",
       "alco           0\n",
       "active         0\n",
       "cardio         0\n",
       "dtype: int64"
      ]
     },
     "execution_count": 4,
     "metadata": {},
     "output_type": "execute_result"
    }
   ],
   "source": [
    "# Check for missing values\n",
    "df.isnull().sum()"
   ]
  },
  {
   "cell_type": "code",
   "execution_count": 5,
   "metadata": {
    "execution": {
     "iopub.execute_input": "2023-02-08T06:40:28.751443Z",
     "iopub.status.busy": "2023-02-08T06:40:28.751167Z",
     "iopub.status.idle": "2023-02-08T06:40:28.759210Z",
     "shell.execute_reply": "2023-02-08T06:40:28.758151Z",
     "shell.execute_reply.started": "2023-02-08T06:40:28.751397Z"
    }
   },
   "outputs": [
    {
     "data": {
      "text/plain": [
       "array([0, 1])"
      ]
     },
     "execution_count": 5,
     "metadata": {},
     "output_type": "execute_result"
    }
   ],
   "source": [
    "df['cardio'].unique()"
   ]
  },
  {
   "cell_type": "code",
   "execution_count": 6,
   "metadata": {
    "execution": {
     "iopub.execute_input": "2023-02-08T06:40:28.763074Z",
     "iopub.status.busy": "2023-02-08T06:40:28.762555Z",
     "iopub.status.idle": "2023-02-08T06:40:28.810705Z",
     "shell.execute_reply": "2023-02-08T06:40:28.810097Z",
     "shell.execute_reply.started": "2023-02-08T06:40:28.762886Z"
    }
   },
   "outputs": [],
   "source": [
    "# Convert age from days to years\n",
    "df['age'] =  df['age'] / 365"
   ]
  },
  {
   "cell_type": "code",
   "execution_count": 7,
   "metadata": {
    "execution": {
     "iopub.execute_input": "2023-02-08T06:40:28.812282Z",
     "iopub.status.busy": "2023-02-08T06:40:28.811952Z",
     "iopub.status.idle": "2023-02-08T06:40:28.825994Z",
     "shell.execute_reply": "2023-02-08T06:40:28.824971Z",
     "shell.execute_reply.started": "2023-02-08T06:40:28.812177Z"
    },
    "scrolled": true
   },
   "outputs": [
    {
     "data": {
      "text/html": [
       "<div>\n",
       "<style scoped>\n",
       "    .dataframe tbody tr th:only-of-type {\n",
       "        vertical-align: middle;\n",
       "    }\n",
       "\n",
       "    .dataframe tbody tr th {\n",
       "        vertical-align: top;\n",
       "    }\n",
       "\n",
       "    .dataframe thead th {\n",
       "        text-align: right;\n",
       "    }\n",
       "</style>\n",
       "<table border=\"1\" class=\"dataframe\">\n",
       "  <thead>\n",
       "    <tr style=\"text-align: right;\">\n",
       "      <th></th>\n",
       "      <th>id</th>\n",
       "      <th>age</th>\n",
       "      <th>gender</th>\n",
       "      <th>height</th>\n",
       "      <th>weight</th>\n",
       "      <th>ap_hi</th>\n",
       "      <th>ap_lo</th>\n",
       "      <th>cholesterol</th>\n",
       "      <th>gluc</th>\n",
       "      <th>smoke</th>\n",
       "      <th>alco</th>\n",
       "      <th>active</th>\n",
       "      <th>cardio</th>\n",
       "    </tr>\n",
       "  </thead>\n",
       "  <tbody>\n",
       "    <tr>\n",
       "      <th>0</th>\n",
       "      <td>0</td>\n",
       "      <td>50.391781</td>\n",
       "      <td>2</td>\n",
       "      <td>168</td>\n",
       "      <td>62.0</td>\n",
       "      <td>110</td>\n",
       "      <td>80</td>\n",
       "      <td>1</td>\n",
       "      <td>1</td>\n",
       "      <td>0</td>\n",
       "      <td>0</td>\n",
       "      <td>1</td>\n",
       "      <td>0</td>\n",
       "    </tr>\n",
       "    <tr>\n",
       "      <th>1</th>\n",
       "      <td>1</td>\n",
       "      <td>55.419178</td>\n",
       "      <td>1</td>\n",
       "      <td>156</td>\n",
       "      <td>85.0</td>\n",
       "      <td>140</td>\n",
       "      <td>90</td>\n",
       "      <td>3</td>\n",
       "      <td>1</td>\n",
       "      <td>0</td>\n",
       "      <td>0</td>\n",
       "      <td>1</td>\n",
       "      <td>1</td>\n",
       "    </tr>\n",
       "    <tr>\n",
       "      <th>2</th>\n",
       "      <td>2</td>\n",
       "      <td>51.663014</td>\n",
       "      <td>1</td>\n",
       "      <td>165</td>\n",
       "      <td>64.0</td>\n",
       "      <td>130</td>\n",
       "      <td>70</td>\n",
       "      <td>3</td>\n",
       "      <td>1</td>\n",
       "      <td>0</td>\n",
       "      <td>0</td>\n",
       "      <td>0</td>\n",
       "      <td>1</td>\n",
       "    </tr>\n",
       "    <tr>\n",
       "      <th>3</th>\n",
       "      <td>3</td>\n",
       "      <td>48.282192</td>\n",
       "      <td>2</td>\n",
       "      <td>169</td>\n",
       "      <td>82.0</td>\n",
       "      <td>150</td>\n",
       "      <td>100</td>\n",
       "      <td>1</td>\n",
       "      <td>1</td>\n",
       "      <td>0</td>\n",
       "      <td>0</td>\n",
       "      <td>1</td>\n",
       "      <td>1</td>\n",
       "    </tr>\n",
       "    <tr>\n",
       "      <th>4</th>\n",
       "      <td>4</td>\n",
       "      <td>47.873973</td>\n",
       "      <td>1</td>\n",
       "      <td>156</td>\n",
       "      <td>56.0</td>\n",
       "      <td>100</td>\n",
       "      <td>60</td>\n",
       "      <td>1</td>\n",
       "      <td>1</td>\n",
       "      <td>0</td>\n",
       "      <td>0</td>\n",
       "      <td>0</td>\n",
       "      <td>0</td>\n",
       "    </tr>\n",
       "  </tbody>\n",
       "</table>\n",
       "</div>"
      ],
      "text/plain": [
       "   id        age  gender  height  weight  ap_hi  ap_lo  cholesterol  gluc  \\\n",
       "0   0  50.391781       2     168    62.0    110     80            1     1   \n",
       "1   1  55.419178       1     156    85.0    140     90            3     1   \n",
       "2   2  51.663014       1     165    64.0    130     70            3     1   \n",
       "3   3  48.282192       2     169    82.0    150    100            1     1   \n",
       "4   4  47.873973       1     156    56.0    100     60            1     1   \n",
       "\n",
       "   smoke  alco  active  cardio  \n",
       "0      0     0       1       0  \n",
       "1      0     0       1       1  \n",
       "2      0     0       0       1  \n",
       "3      0     0       1       1  \n",
       "4      0     0       0       0  "
      ]
     },
     "execution_count": 7,
     "metadata": {},
     "output_type": "execute_result"
    }
   ],
   "source": [
    "df.head()"
   ]
  },
  {
   "cell_type": "code",
   "execution_count": 8,
   "metadata": {
    "execution": {
     "iopub.execute_input": "2023-02-08T06:40:28.827866Z",
     "iopub.status.busy": "2023-02-08T06:40:28.827323Z",
     "iopub.status.idle": "2023-02-08T06:40:28.844942Z",
     "shell.execute_reply": "2023-02-08T06:40:28.843878Z",
     "shell.execute_reply.started": "2023-02-08T06:40:28.827817Z"
    },
    "scrolled": true
   },
   "outputs": [],
   "source": [
    "# Rename columns to make features more clearly understood\n",
    "df.rename(columns={'ap_hi': 'systolic', 'ap_lo': 'diastolic', 'gluc': 'glucose', 'alco': 'alcohol', 'cardio': 'cardiovascular disease'}, inplace=True)"
   ]
  },
  {
   "cell_type": "code",
   "execution_count": 9,
   "metadata": {
    "execution": {
     "iopub.execute_input": "2023-02-08T06:40:28.846773Z",
     "iopub.status.busy": "2023-02-08T06:40:28.846345Z",
     "iopub.status.idle": "2023-02-08T06:40:28.862514Z",
     "shell.execute_reply": "2023-02-08T06:40:28.861924Z",
     "shell.execute_reply.started": "2023-02-08T06:40:28.846610Z"
    }
   },
   "outputs": [
    {
     "data": {
      "text/html": [
       "<div>\n",
       "<style scoped>\n",
       "    .dataframe tbody tr th:only-of-type {\n",
       "        vertical-align: middle;\n",
       "    }\n",
       "\n",
       "    .dataframe tbody tr th {\n",
       "        vertical-align: top;\n",
       "    }\n",
       "\n",
       "    .dataframe thead th {\n",
       "        text-align: right;\n",
       "    }\n",
       "</style>\n",
       "<table border=\"1\" class=\"dataframe\">\n",
       "  <thead>\n",
       "    <tr style=\"text-align: right;\">\n",
       "      <th></th>\n",
       "      <th>id</th>\n",
       "      <th>age</th>\n",
       "      <th>gender</th>\n",
       "      <th>height</th>\n",
       "      <th>weight</th>\n",
       "      <th>systolic</th>\n",
       "      <th>diastolic</th>\n",
       "      <th>cholesterol</th>\n",
       "      <th>glucose</th>\n",
       "      <th>smoke</th>\n",
       "      <th>alcohol</th>\n",
       "      <th>active</th>\n",
       "      <th>cardiovascular disease</th>\n",
       "    </tr>\n",
       "  </thead>\n",
       "  <tbody>\n",
       "    <tr>\n",
       "      <th>0</th>\n",
       "      <td>0</td>\n",
       "      <td>50.391781</td>\n",
       "      <td>2</td>\n",
       "      <td>168</td>\n",
       "      <td>62.0</td>\n",
       "      <td>110</td>\n",
       "      <td>80</td>\n",
       "      <td>1</td>\n",
       "      <td>1</td>\n",
       "      <td>0</td>\n",
       "      <td>0</td>\n",
       "      <td>1</td>\n",
       "      <td>0</td>\n",
       "    </tr>\n",
       "    <tr>\n",
       "      <th>1</th>\n",
       "      <td>1</td>\n",
       "      <td>55.419178</td>\n",
       "      <td>1</td>\n",
       "      <td>156</td>\n",
       "      <td>85.0</td>\n",
       "      <td>140</td>\n",
       "      <td>90</td>\n",
       "      <td>3</td>\n",
       "      <td>1</td>\n",
       "      <td>0</td>\n",
       "      <td>0</td>\n",
       "      <td>1</td>\n",
       "      <td>1</td>\n",
       "    </tr>\n",
       "    <tr>\n",
       "      <th>2</th>\n",
       "      <td>2</td>\n",
       "      <td>51.663014</td>\n",
       "      <td>1</td>\n",
       "      <td>165</td>\n",
       "      <td>64.0</td>\n",
       "      <td>130</td>\n",
       "      <td>70</td>\n",
       "      <td>3</td>\n",
       "      <td>1</td>\n",
       "      <td>0</td>\n",
       "      <td>0</td>\n",
       "      <td>0</td>\n",
       "      <td>1</td>\n",
       "    </tr>\n",
       "    <tr>\n",
       "      <th>3</th>\n",
       "      <td>3</td>\n",
       "      <td>48.282192</td>\n",
       "      <td>2</td>\n",
       "      <td>169</td>\n",
       "      <td>82.0</td>\n",
       "      <td>150</td>\n",
       "      <td>100</td>\n",
       "      <td>1</td>\n",
       "      <td>1</td>\n",
       "      <td>0</td>\n",
       "      <td>0</td>\n",
       "      <td>1</td>\n",
       "      <td>1</td>\n",
       "    </tr>\n",
       "    <tr>\n",
       "      <th>4</th>\n",
       "      <td>4</td>\n",
       "      <td>47.873973</td>\n",
       "      <td>1</td>\n",
       "      <td>156</td>\n",
       "      <td>56.0</td>\n",
       "      <td>100</td>\n",
       "      <td>60</td>\n",
       "      <td>1</td>\n",
       "      <td>1</td>\n",
       "      <td>0</td>\n",
       "      <td>0</td>\n",
       "      <td>0</td>\n",
       "      <td>0</td>\n",
       "    </tr>\n",
       "  </tbody>\n",
       "</table>\n",
       "</div>"
      ],
      "text/plain": [
       "   id        age  gender  height  weight  systolic  diastolic  cholesterol  \\\n",
       "0   0  50.391781       2     168    62.0       110         80            1   \n",
       "1   1  55.419178       1     156    85.0       140         90            3   \n",
       "2   2  51.663014       1     165    64.0       130         70            3   \n",
       "3   3  48.282192       2     169    82.0       150        100            1   \n",
       "4   4  47.873973       1     156    56.0       100         60            1   \n",
       "\n",
       "   glucose  smoke  alcohol  active  cardiovascular disease  \n",
       "0        1      0        0       1                       0  \n",
       "1        1      0        0       1                       1  \n",
       "2        1      0        0       0                       1  \n",
       "3        1      0        0       1                       1  \n",
       "4        1      0        0       0                       0  "
      ]
     },
     "execution_count": 9,
     "metadata": {},
     "output_type": "execute_result"
    }
   ],
   "source": [
    "df.head()"
   ]
  },
  {
   "cell_type": "code",
   "execution_count": 10,
   "metadata": {
    "execution": {
     "iopub.execute_input": "2023-02-08T06:40:28.865396Z",
     "iopub.status.busy": "2023-02-08T06:40:28.864885Z",
     "iopub.status.idle": "2023-02-08T06:40:30.442470Z",
     "shell.execute_reply": "2023-02-08T06:40:30.441738Z",
     "shell.execute_reply.started": "2023-02-08T06:40:28.865347Z"
    }
   },
   "outputs": [
    {
     "data": {
      "image/png": "[encoded data removed]",
      "text/plain": [
       "<Figure size 478.6x432 with 1 Axes>"
      ]
     },
     "metadata": {
      "needs_background": "light"
     },
     "output_type": "display_data"
    }
   ],
   "source": [
    "sns.lmplot(x='weight', y='height', hue='gender', data=df, fit_reg=False, height=6)\n",
    "plt.show()"
   ]
  },
  {
   "cell_type": "code",
   "execution_count": 11,
   "metadata": {
    "execution": {
     "iopub.execute_input": "2023-02-08T06:40:30.444311Z",
     "iopub.status.busy": "2023-02-08T06:40:30.443860Z",
     "iopub.status.idle": "2023-02-08T06:40:30.575171Z",
     "shell.execute_reply": "2023-02-08T06:40:30.574525Z",
     "shell.execute_reply.started": "2023-02-08T06:40:30.444114Z"
    },
    "scrolled": true
   },
   "outputs": [
    {
     "data": {
      "image/png": "[encoded data removed]",
      "text/plain": [
       "<Figure size 432x288 with 1 Axes>"
      ]
     },
     "metadata": {
      "needs_background": "light"
     },
     "output_type": "display_data"
    }
   ],
   "source": [
    "sns.countplot(x='gender', data=df, hue='cardiovascular disease')\n",
    "plt.show()\n",
    "\n",
    "# Not much of a difference between females (1) and males (2) and the chance of getting cardiovascular disease."
   ]
  },
  {
   "cell_type": "code",
   "execution_count": 12,
   "metadata": {
    "execution": {
     "iopub.execute_input": "2023-02-08T06:40:30.578967Z",
     "iopub.status.busy": "2023-02-08T06:40:30.578730Z",
     "iopub.status.idle": "2023-02-08T06:40:30.652898Z",
     "shell.execute_reply": "2023-02-08T06:40:30.652155Z",
     "shell.execute_reply.started": "2023-02-08T06:40:30.578921Z"
    }
   },
   "outputs": [
    {
     "data": {
      "text/html": [
       "<div>\n",
       "<style scoped>\n",
       "    .dataframe tbody tr th:only-of-type {\n",
       "        vertical-align: middle;\n",
       "    }\n",
       "\n",
       "    .dataframe tbody tr th {\n",
       "        vertical-align: top;\n",
       "    }\n",
       "\n",
       "    .dataframe thead th {\n",
       "        text-align: right;\n",
       "    }\n",
       "</style>\n",
       "<table border=\"1\" class=\"dataframe\">\n",
       "  <thead>\n",
       "    <tr style=\"text-align: right;\">\n",
       "      <th></th>\n",
       "      <th>id</th>\n",
       "      <th>age</th>\n",
       "      <th>gender</th>\n",
       "      <th>height</th>\n",
       "      <th>weight</th>\n",
       "      <th>systolic</th>\n",
       "      <th>diastolic</th>\n",
       "      <th>cholesterol</th>\n",
       "      <th>glucose</th>\n",
       "      <th>smoke</th>\n",
       "      <th>alcohol</th>\n",
       "      <th>active</th>\n",
       "      <th>cardiovascular disease</th>\n",
       "    </tr>\n",
       "  </thead>\n",
       "  <tbody>\n",
       "    <tr>\n",
       "      <th>count</th>\n",
       "      <td>70000.000000</td>\n",
       "      <td>70000.000000</td>\n",
       "      <td>70000.000000</td>\n",
       "      <td>70000.000000</td>\n",
       "      <td>70000.000000</td>\n",
       "      <td>70000.000000</td>\n",
       "      <td>70000.000000</td>\n",
       "      <td>70000.000000</td>\n",
       "      <td>70000.000000</td>\n",
       "      <td>70000.000000</td>\n",
       "      <td>70000.000000</td>\n",
       "      <td>70000.000000</td>\n",
       "      <td>70000.000000</td>\n",
       "    </tr>\n",
       "    <tr>\n",
       "      <th>mean</th>\n",
       "      <td>49972.419900</td>\n",
       "      <td>53.339358</td>\n",
       "      <td>1.349571</td>\n",
       "      <td>164.359229</td>\n",
       "      <td>74.205690</td>\n",
       "      <td>128.817286</td>\n",
       "      <td>96.630414</td>\n",
       "      <td>1.366871</td>\n",
       "      <td>1.226457</td>\n",
       "      <td>0.088129</td>\n",
       "      <td>0.053771</td>\n",
       "      <td>0.803729</td>\n",
       "      <td>0.499700</td>\n",
       "    </tr>\n",
       "    <tr>\n",
       "      <th>std</th>\n",
       "      <td>28851.302323</td>\n",
       "      <td>6.759594</td>\n",
       "      <td>0.476838</td>\n",
       "      <td>8.210126</td>\n",
       "      <td>14.395757</td>\n",
       "      <td>154.011419</td>\n",
       "      <td>188.472530</td>\n",
       "      <td>0.680250</td>\n",
       "      <td>0.572270</td>\n",
       "      <td>0.283484</td>\n",
       "      <td>0.225568</td>\n",
       "      <td>0.397179</td>\n",
       "      <td>0.500003</td>\n",
       "    </tr>\n",
       "    <tr>\n",
       "      <th>min</th>\n",
       "      <td>0.000000</td>\n",
       "      <td>29.583562</td>\n",
       "      <td>1.000000</td>\n",
       "      <td>55.000000</td>\n",
       "      <td>10.000000</td>\n",
       "      <td>-150.000000</td>\n",
       "      <td>-70.000000</td>\n",
       "      <td>1.000000</td>\n",
       "      <td>1.000000</td>\n",
       "      <td>0.000000</td>\n",
       "      <td>0.000000</td>\n",
       "      <td>0.000000</td>\n",
       "      <td>0.000000</td>\n",
       "    </tr>\n",
       "    <tr>\n",
       "      <th>25%</th>\n",
       "      <td>25006.750000</td>\n",
       "      <td>48.394521</td>\n",
       "      <td>1.000000</td>\n",
       "      <td>159.000000</td>\n",
       "      <td>65.000000</td>\n",
       "      <td>120.000000</td>\n",
       "      <td>80.000000</td>\n",
       "      <td>1.000000</td>\n",
       "      <td>1.000000</td>\n",
       "      <td>0.000000</td>\n",
       "      <td>0.000000</td>\n",
       "      <td>1.000000</td>\n",
       "      <td>0.000000</td>\n",
       "    </tr>\n",
       "    <tr>\n",
       "      <th>50%</th>\n",
       "      <td>50001.500000</td>\n",
       "      <td>53.980822</td>\n",
       "      <td>1.000000</td>\n",
       "      <td>165.000000</td>\n",
       "      <td>72.000000</td>\n",
       "      <td>120.000000</td>\n",
       "      <td>80.000000</td>\n",
       "      <td>1.000000</td>\n",
       "      <td>1.000000</td>\n",
       "      <td>0.000000</td>\n",
       "      <td>0.000000</td>\n",
       "      <td>1.000000</td>\n",
       "      <td>0.000000</td>\n",
       "    </tr>\n",
       "    <tr>\n",
       "      <th>75%</th>\n",
       "      <td>74889.250000</td>\n",
       "      <td>58.430137</td>\n",
       "      <td>2.000000</td>\n",
       "      <td>170.000000</td>\n",
       "      <td>82.000000</td>\n",
       "      <td>140.000000</td>\n",
       "      <td>90.000000</td>\n",
       "      <td>2.000000</td>\n",
       "      <td>1.000000</td>\n",
       "      <td>0.000000</td>\n",
       "      <td>0.000000</td>\n",
       "      <td>1.000000</td>\n",
       "      <td>1.000000</td>\n",
       "    </tr>\n",
       "    <tr>\n",
       "      <th>max</th>\n",
       "      <td>99999.000000</td>\n",
       "      <td>64.967123</td>\n",
       "      <td>2.000000</td>\n",
       "      <td>250.000000</td>\n",
       "      <td>200.000000</td>\n",
       "      <td>16020.000000</td>\n",
       "      <td>11000.000000</td>\n",
       "      <td>3.000000</td>\n",
       "      <td>3.000000</td>\n",
       "      <td>1.000000</td>\n",
       "      <td>1.000000</td>\n",
       "      <td>1.000000</td>\n",
       "      <td>1.000000</td>\n",
       "    </tr>\n",
       "  </tbody>\n",
       "</table>\n",
       "</div>"
      ],
      "text/plain": [
       "                 id           age        gender        height        weight  \\\n",
       "count  70000.000000  70000.000000  70000.000000  70000.000000  70000.000000   \n",
       "mean   49972.419900     53.339358      1.349571    164.359229     74.205690   \n",
       "std    28851.302323      6.759594      0.476838      8.210126     14.395757   \n",
       "min        0.000000     29.583562      1.000000     55.000000     10.000000   \n",
       "25%    25006.750000     48.394521      1.000000    159.000000     65.000000   \n",
       "50%    50001.500000     53.980822      1.000000    165.000000     72.000000   \n",
       "75%    74889.250000     58.430137      2.000000    170.000000     82.000000   \n",
       "max    99999.000000     64.967123      2.000000    250.000000    200.000000   \n",
       "\n",
       "           systolic     diastolic   cholesterol       glucose         smoke  \\\n",
       "count  70000.000000  70000.000000  70000.000000  70000.000000  70000.000000   \n",
       "mean     128.817286     96.630414      1.366871      1.226457      0.088129   \n",
       "std      154.011419    188.472530      0.680250      0.572270      0.283484   \n",
       "min     -150.000000    -70.000000      1.000000      1.000000      0.000000   \n",
       "25%      120.000000     80.000000      1.000000      1.000000      0.000000   \n",
       "50%      120.000000     80.000000      1.000000      1.000000      0.000000   \n",
       "75%      140.000000     90.000000      2.000000      1.000000      0.000000   \n",
       "max    16020.000000  11000.000000      3.000000      3.000000      1.000000   \n",
       "\n",
       "            alcohol        active  cardiovascular disease  \n",
       "count  70000.000000  70000.000000            70000.000000  \n",
       "mean       0.053771      0.803729                0.499700  \n",
       "std        0.225568      0.397179                0.500003  \n",
       "min        0.000000      0.000000                0.000000  \n",
       "25%        0.000000      1.000000                0.000000  \n",
       "50%        0.000000      1.000000                0.000000  \n",
       "75%        0.000000      1.000000                1.000000  \n",
       "max        1.000000      1.000000                1.000000  "
      ]
     },
     "execution_count": 12,
     "metadata": {},
     "output_type": "execute_result"
    }
   ],
   "source": [
    "df.describe()"
   ]
  },
  {
   "cell_type": "code",
   "execution_count": 13,
   "metadata": {
    "execution": {
     "iopub.execute_input": "2023-02-08T06:40:30.654403Z",
     "iopub.status.busy": "2023-02-08T06:40:30.654113Z",
     "iopub.status.idle": "2023-02-08T06:40:30.665438Z",
     "shell.execute_reply": "2023-02-08T06:40:30.664437Z",
     "shell.execute_reply.started": "2023-02-08T06:40:30.654355Z"
    }
   },
   "outputs": [],
   "source": [
    "df_train = df.drop('id', axis=1)"
   ]
  },
  {
   "cell_type": "code",
   "execution_count": 14,
   "metadata": {
    "execution": {
     "iopub.execute_input": "2023-02-08T06:40:30.667314Z",
     "iopub.status.busy": "2023-02-08T06:40:30.666912Z",
     "iopub.status.idle": "2023-02-08T06:40:30.683824Z",
     "shell.execute_reply": "2023-02-08T06:40:30.683238Z",
     "shell.execute_reply.started": "2023-02-08T06:40:30.667267Z"
    },
    "scrolled": true
   },
   "outputs": [
    {
     "data": {
      "text/html": [
       "<div>\n",
       "<style scoped>\n",
       "    .dataframe tbody tr th:only-of-type {\n",
       "        vertical-align: middle;\n",
       "    }\n",
       "\n",
       "    .dataframe tbody tr th {\n",
       "        vertical-align: top;\n",
       "    }\n",
       "\n",
       "    .dataframe thead th {\n",
       "        text-align: right;\n",
       "    }\n",
       "</style>\n",
       "<table border=\"1\" class=\"dataframe\">\n",
       "  <thead>\n",
       "    <tr style=\"text-align: right;\">\n",
       "      <th></th>\n",
       "      <th>age</th>\n",
       "      <th>gender</th>\n",
       "      <th>height</th>\n",
       "      <th>weight</th>\n",
       "      <th>systolic</th>\n",
       "      <th>diastolic</th>\n",
       "      <th>cholesterol</th>\n",
       "      <th>glucose</th>\n",
       "      <th>smoke</th>\n",
       "      <th>alcohol</th>\n",
       "      <th>active</th>\n",
       "      <th>cardiovascular disease</th>\n",
       "    </tr>\n",
       "  </thead>\n",
       "  <tbody>\n",
       "    <tr>\n",
       "      <th>0</th>\n",
       "      <td>50.391781</td>\n",
       "      <td>2</td>\n",
       "      <td>168</td>\n",
       "      <td>62.0</td>\n",
       "      <td>110</td>\n",
       "      <td>80</td>\n",
       "      <td>1</td>\n",
       "      <td>1</td>\n",
       "      <td>0</td>\n",
       "      <td>0</td>\n",
       "      <td>1</td>\n",
       "      <td>0</td>\n",
       "    </tr>\n",
       "    <tr>\n",
       "      <th>1</th>\n",
       "      <td>55.419178</td>\n",
       "      <td>1</td>\n",
       "      <td>156</td>\n",
       "      <td>85.0</td>\n",
       "      <td>140</td>\n",
       "      <td>90</td>\n",
       "      <td>3</td>\n",
       "      <td>1</td>\n",
       "      <td>0</td>\n",
       "      <td>0</td>\n",
       "      <td>1</td>\n",
       "      <td>1</td>\n",
       "    </tr>\n",
       "    <tr>\n",
       "      <th>2</th>\n",
       "      <td>51.663014</td>\n",
       "      <td>1</td>\n",
       "      <td>165</td>\n",
       "      <td>64.0</td>\n",
       "      <td>130</td>\n",
       "      <td>70</td>\n",
       "      <td>3</td>\n",
       "      <td>1</td>\n",
       "      <td>0</td>\n",
       "      <td>0</td>\n",
       "      <td>0</td>\n",
       "      <td>1</td>\n",
       "    </tr>\n",
       "    <tr>\n",
       "      <th>3</th>\n",
       "      <td>48.282192</td>\n",
       "      <td>2</td>\n",
       "      <td>169</td>\n",
       "      <td>82.0</td>\n",
       "      <td>150</td>\n",
       "      <td>100</td>\n",
       "      <td>1</td>\n",
       "      <td>1</td>\n",
       "      <td>0</td>\n",
       "      <td>0</td>\n",
       "      <td>1</td>\n",
       "      <td>1</td>\n",
       "    </tr>\n",
       "    <tr>\n",
       "      <th>4</th>\n",
       "      <td>47.873973</td>\n",
       "      <td>1</td>\n",
       "      <td>156</td>\n",
       "      <td>56.0</td>\n",
       "      <td>100</td>\n",
       "      <td>60</td>\n",
       "      <td>1</td>\n",
       "      <td>1</td>\n",
       "      <td>0</td>\n",
       "      <td>0</td>\n",
       "      <td>0</td>\n",
       "      <td>0</td>\n",
       "    </tr>\n",
       "  </tbody>\n",
       "</table>\n",
       "</div>"
      ],
      "text/plain": [
       "         age  gender  height  weight  systolic  diastolic  cholesterol  \\\n",
       "0  50.391781       2     168    62.0       110         80            1   \n",
       "1  55.419178       1     156    85.0       140         90            3   \n",
       "2  51.663014       1     165    64.0       130         70            3   \n",
       "3  48.282192       2     169    82.0       150        100            1   \n",
       "4  47.873973       1     156    56.0       100         60            1   \n",
       "\n",
       "   glucose  smoke  alcohol  active  cardiovascular disease  \n",
       "0        1      0        0       1                       0  \n",
       "1        1      0        0       1                       1  \n",
       "2        1      0        0       0                       1  \n",
       "3        1      0        0       1                       1  \n",
       "4        1      0        0       0                       0  "
      ]
     },
     "execution_count": 14,
     "metadata": {},
     "output_type": "execute_result"
    }
   ],
   "source": [
    "df_train.head()"
   ]
  },
  {
   "cell_type": "code",
   "execution_count": 15,
   "metadata": {
    "execution": {
     "iopub.execute_input": "2023-02-08T06:40:30.687342Z",
     "iopub.status.busy": "2023-02-08T06:40:30.687101Z",
     "iopub.status.idle": "2023-02-08T06:40:30.703955Z",
     "shell.execute_reply": "2023-02-08T06:40:30.703245Z",
     "shell.execute_reply.started": "2023-02-08T06:40:30.687298Z"
    }
   },
   "outputs": [
    {
     "name": "stdout",
     "output_type": "stream",
     "text": [
      "<class 'pandas.core.frame.DataFrame'>\n",
      "RangeIndex: 70000 entries, 0 to 69999\n",
      "Data columns (total 12 columns):\n",
      "age                       70000 non-null float64\n",
      "gender                    70000 non-null int64\n",
      "height                    70000 non-null int64\n",
      "weight                    70000 non-null float64\n",
      "systolic                  70000 non-null int64\n",
      "diastolic                 70000 non-null int64\n",
      "cholesterol               70000 non-null int64\n",
      "glucose                   70000 non-null int64\n",
      "smoke                     70000 non-null int64\n",
      "alcohol                   70000 non-null int64\n",
      "active                    70000 non-null int64\n",
      "cardiovascular disease    70000 non-null int64\n",
      "dtypes: float64(2), int64(10)\n",
      "memory usage: 6.4 MB\n"
     ]
    }
   ],
   "source": [
    "df_train.info()"
   ]
  },
  {
   "cell_type": "code",
   "execution_count": 16,
   "metadata": {
    "execution": {
     "iopub.execute_input": "2023-02-08T06:40:30.705681Z",
     "iopub.status.busy": "2023-02-08T06:40:30.705185Z",
     "iopub.status.idle": "2023-02-08T06:40:30.731858Z",
     "shell.execute_reply": "2023-02-08T06:40:30.731250Z",
     "shell.execute_reply.started": "2023-02-08T06:40:30.705476Z"
    }
   },
   "outputs": [
    {
     "data": {
      "text/plain": [
       "24"
      ]
     },
     "execution_count": 16,
     "metadata": {},
     "output_type": "execute_result"
    }
   ],
   "source": [
    "# 24 Duplicated entries\n",
    "df_train.duplicated().sum()"
   ]
  },
  {
   "cell_type": "code",
   "execution_count": 17,
   "metadata": {
    "execution": {
     "iopub.execute_input": "2023-02-08T06:40:30.733358Z",
     "iopub.status.busy": "2023-02-08T06:40:30.733077Z",
     "iopub.status.idle": "2023-02-08T06:40:30.764103Z",
     "shell.execute_reply": "2023-02-08T06:40:30.763233Z",
     "shell.execute_reply.started": "2023-02-08T06:40:30.733312Z"
    },
    "scrolled": true
   },
   "outputs": [
    {
     "data": {
      "text/html": [
       "<div>\n",
       "<style scoped>\n",
       "    .dataframe tbody tr th:only-of-type {\n",
       "        vertical-align: middle;\n",
       "    }\n",
       "\n",
       "    .dataframe tbody tr th {\n",
       "        vertical-align: top;\n",
       "    }\n",
       "\n",
       "    .dataframe thead th {\n",
       "        text-align: right;\n",
       "    }\n",
       "</style>\n",
       "<table border=\"1\" class=\"dataframe\">\n",
       "  <thead>\n",
       "    <tr style=\"text-align: right;\">\n",
       "      <th></th>\n",
       "      <th>age</th>\n",
       "      <th>gender</th>\n",
       "      <th>height</th>\n",
       "      <th>weight</th>\n",
       "      <th>systolic</th>\n",
       "      <th>diastolic</th>\n",
       "      <th>cholesterol</th>\n",
       "      <th>glucose</th>\n",
       "      <th>smoke</th>\n",
       "      <th>alcohol</th>\n",
       "      <th>active</th>\n",
       "      <th>cardiovascular disease</th>\n",
       "    </tr>\n",
       "  </thead>\n",
       "  <tbody>\n",
       "    <tr>\n",
       "      <th>10562</th>\n",
       "      <td>56.150685</td>\n",
       "      <td>1</td>\n",
       "      <td>165</td>\n",
       "      <td>70.0</td>\n",
       "      <td>120</td>\n",
       "      <td>80</td>\n",
       "      <td>1</td>\n",
       "      <td>1</td>\n",
       "      <td>0</td>\n",
       "      <td>0</td>\n",
       "      <td>1</td>\n",
       "      <td>0</td>\n",
       "    </tr>\n",
       "    <tr>\n",
       "      <th>21784</th>\n",
       "      <td>46.008219</td>\n",
       "      <td>1</td>\n",
       "      <td>165</td>\n",
       "      <td>68.0</td>\n",
       "      <td>120</td>\n",
       "      <td>80</td>\n",
       "      <td>1</td>\n",
       "      <td>1</td>\n",
       "      <td>0</td>\n",
       "      <td>0</td>\n",
       "      <td>1</td>\n",
       "      <td>0</td>\n",
       "    </tr>\n",
       "    <tr>\n",
       "      <th>38505</th>\n",
       "      <td>52.021918</td>\n",
       "      <td>1</td>\n",
       "      <td>164</td>\n",
       "      <td>65.0</td>\n",
       "      <td>120</td>\n",
       "      <td>80</td>\n",
       "      <td>1</td>\n",
       "      <td>1</td>\n",
       "      <td>0</td>\n",
       "      <td>0</td>\n",
       "      <td>1</td>\n",
       "      <td>0</td>\n",
       "    </tr>\n",
       "    <tr>\n",
       "      <th>40365</th>\n",
       "      <td>39.868493</td>\n",
       "      <td>1</td>\n",
       "      <td>158</td>\n",
       "      <td>64.0</td>\n",
       "      <td>120</td>\n",
       "      <td>80</td>\n",
       "      <td>1</td>\n",
       "      <td>1</td>\n",
       "      <td>0</td>\n",
       "      <td>0</td>\n",
       "      <td>1</td>\n",
       "      <td>0</td>\n",
       "    </tr>\n",
       "    <tr>\n",
       "      <th>42450</th>\n",
       "      <td>50.282192</td>\n",
       "      <td>1</td>\n",
       "      <td>169</td>\n",
       "      <td>67.0</td>\n",
       "      <td>120</td>\n",
       "      <td>80</td>\n",
       "      <td>1</td>\n",
       "      <td>1</td>\n",
       "      <td>0</td>\n",
       "      <td>0</td>\n",
       "      <td>1</td>\n",
       "      <td>0</td>\n",
       "    </tr>\n",
       "    <tr>\n",
       "      <th>44653</th>\n",
       "      <td>46.402740</td>\n",
       "      <td>2</td>\n",
       "      <td>170</td>\n",
       "      <td>70.0</td>\n",
       "      <td>120</td>\n",
       "      <td>80</td>\n",
       "      <td>1</td>\n",
       "      <td>1</td>\n",
       "      <td>0</td>\n",
       "      <td>0</td>\n",
       "      <td>0</td>\n",
       "      <td>0</td>\n",
       "    </tr>\n",
       "    <tr>\n",
       "      <th>45125</th>\n",
       "      <td>58.301370</td>\n",
       "      <td>1</td>\n",
       "      <td>165</td>\n",
       "      <td>65.0</td>\n",
       "      <td>120</td>\n",
       "      <td>80</td>\n",
       "      <td>1</td>\n",
       "      <td>1</td>\n",
       "      <td>0</td>\n",
       "      <td>0</td>\n",
       "      <td>1</td>\n",
       "      <td>0</td>\n",
       "    </tr>\n",
       "    <tr>\n",
       "      <th>45748</th>\n",
       "      <td>60.484932</td>\n",
       "      <td>1</td>\n",
       "      <td>175</td>\n",
       "      <td>69.0</td>\n",
       "      <td>120</td>\n",
       "      <td>80</td>\n",
       "      <td>1</td>\n",
       "      <td>1</td>\n",
       "      <td>0</td>\n",
       "      <td>0</td>\n",
       "      <td>1</td>\n",
       "      <td>1</td>\n",
       "    </tr>\n",
       "    <tr>\n",
       "      <th>45810</th>\n",
       "      <td>58.164384</td>\n",
       "      <td>1</td>\n",
       "      <td>164</td>\n",
       "      <td>62.0</td>\n",
       "      <td>120</td>\n",
       "      <td>80</td>\n",
       "      <td>1</td>\n",
       "      <td>1</td>\n",
       "      <td>0</td>\n",
       "      <td>0</td>\n",
       "      <td>1</td>\n",
       "      <td>0</td>\n",
       "    </tr>\n",
       "    <tr>\n",
       "      <th>48917</th>\n",
       "      <td>60.123288</td>\n",
       "      <td>1</td>\n",
       "      <td>165</td>\n",
       "      <td>60.0</td>\n",
       "      <td>120</td>\n",
       "      <td>80</td>\n",
       "      <td>1</td>\n",
       "      <td>1</td>\n",
       "      <td>0</td>\n",
       "      <td>0</td>\n",
       "      <td>1</td>\n",
       "      <td>0</td>\n",
       "    </tr>\n",
       "    <tr>\n",
       "      <th>50432</th>\n",
       "      <td>47.926027</td>\n",
       "      <td>2</td>\n",
       "      <td>169</td>\n",
       "      <td>74.0</td>\n",
       "      <td>120</td>\n",
       "      <td>80</td>\n",
       "      <td>1</td>\n",
       "      <td>1</td>\n",
       "      <td>0</td>\n",
       "      <td>0</td>\n",
       "      <td>1</td>\n",
       "      <td>1</td>\n",
       "    </tr>\n",
       "    <tr>\n",
       "      <th>52552</th>\n",
       "      <td>60.117808</td>\n",
       "      <td>1</td>\n",
       "      <td>165</td>\n",
       "      <td>65.0</td>\n",
       "      <td>120</td>\n",
       "      <td>80</td>\n",
       "      <td>1</td>\n",
       "      <td>1</td>\n",
       "      <td>0</td>\n",
       "      <td>0</td>\n",
       "      <td>1</td>\n",
       "      <td>1</td>\n",
       "    </tr>\n",
       "    <tr>\n",
       "      <th>56643</th>\n",
       "      <td>48.041096</td>\n",
       "      <td>2</td>\n",
       "      <td>165</td>\n",
       "      <td>65.0</td>\n",
       "      <td>120</td>\n",
       "      <td>80</td>\n",
       "      <td>1</td>\n",
       "      <td>1</td>\n",
       "      <td>0</td>\n",
       "      <td>0</td>\n",
       "      <td>1</td>\n",
       "      <td>0</td>\n",
       "    </tr>\n",
       "    <tr>\n",
       "      <th>56906</th>\n",
       "      <td>55.597260</td>\n",
       "      <td>1</td>\n",
       "      <td>162</td>\n",
       "      <td>70.0</td>\n",
       "      <td>110</td>\n",
       "      <td>70</td>\n",
       "      <td>1</td>\n",
       "      <td>1</td>\n",
       "      <td>0</td>\n",
       "      <td>0</td>\n",
       "      <td>1</td>\n",
       "      <td>0</td>\n",
       "    </tr>\n",
       "    <tr>\n",
       "      <th>57946</th>\n",
       "      <td>51.931507</td>\n",
       "      <td>1</td>\n",
       "      <td>165</td>\n",
       "      <td>75.0</td>\n",
       "      <td>120</td>\n",
       "      <td>80</td>\n",
       "      <td>1</td>\n",
       "      <td>1</td>\n",
       "      <td>0</td>\n",
       "      <td>0</td>\n",
       "      <td>1</td>\n",
       "      <td>1</td>\n",
       "    </tr>\n",
       "    <tr>\n",
       "      <th>58730</th>\n",
       "      <td>54.405479</td>\n",
       "      <td>1</td>\n",
       "      <td>165</td>\n",
       "      <td>68.0</td>\n",
       "      <td>120</td>\n",
       "      <td>80</td>\n",
       "      <td>1</td>\n",
       "      <td>1</td>\n",
       "      <td>0</td>\n",
       "      <td>0</td>\n",
       "      <td>1</td>\n",
       "      <td>0</td>\n",
       "    </tr>\n",
       "    <tr>\n",
       "      <th>60453</th>\n",
       "      <td>56.208219</td>\n",
       "      <td>1</td>\n",
       "      <td>164</td>\n",
       "      <td>66.0</td>\n",
       "      <td>120</td>\n",
       "      <td>80</td>\n",
       "      <td>1</td>\n",
       "      <td>1</td>\n",
       "      <td>0</td>\n",
       "      <td>0</td>\n",
       "      <td>0</td>\n",
       "      <td>0</td>\n",
       "    </tr>\n",
       "    <tr>\n",
       "      <th>60474</th>\n",
       "      <td>46.041096</td>\n",
       "      <td>1</td>\n",
       "      <td>157</td>\n",
       "      <td>67.0</td>\n",
       "      <td>120</td>\n",
       "      <td>80</td>\n",
       "      <td>1</td>\n",
       "      <td>1</td>\n",
       "      <td>0</td>\n",
       "      <td>0</td>\n",
       "      <td>1</td>\n",
       "      <td>0</td>\n",
       "    </tr>\n",
       "    <tr>\n",
       "      <th>62318</th>\n",
       "      <td>51.997260</td>\n",
       "      <td>1</td>\n",
       "      <td>165</td>\n",
       "      <td>65.0</td>\n",
       "      <td>120</td>\n",
       "      <td>80</td>\n",
       "      <td>1</td>\n",
       "      <td>1</td>\n",
       "      <td>0</td>\n",
       "      <td>0</td>\n",
       "      <td>0</td>\n",
       "      <td>0</td>\n",
       "    </tr>\n",
       "    <tr>\n",
       "      <th>64169</th>\n",
       "      <td>44.273973</td>\n",
       "      <td>1</td>\n",
       "      <td>168</td>\n",
       "      <td>65.0</td>\n",
       "      <td>120</td>\n",
       "      <td>80</td>\n",
       "      <td>1</td>\n",
       "      <td>1</td>\n",
       "      <td>0</td>\n",
       "      <td>0</td>\n",
       "      <td>1</td>\n",
       "      <td>1</td>\n",
       "    </tr>\n",
       "    <tr>\n",
       "      <th>65079</th>\n",
       "      <td>49.890411</td>\n",
       "      <td>1</td>\n",
       "      <td>160</td>\n",
       "      <td>60.0</td>\n",
       "      <td>120</td>\n",
       "      <td>80</td>\n",
       "      <td>1</td>\n",
       "      <td>1</td>\n",
       "      <td>0</td>\n",
       "      <td>0</td>\n",
       "      <td>1</td>\n",
       "      <td>0</td>\n",
       "    </tr>\n",
       "    <tr>\n",
       "      <th>65622</th>\n",
       "      <td>59.665753</td>\n",
       "      <td>1</td>\n",
       "      <td>160</td>\n",
       "      <td>58.0</td>\n",
       "      <td>120</td>\n",
       "      <td>80</td>\n",
       "      <td>1</td>\n",
       "      <td>1</td>\n",
       "      <td>0</td>\n",
       "      <td>0</td>\n",
       "      <td>1</td>\n",
       "      <td>0</td>\n",
       "    </tr>\n",
       "    <tr>\n",
       "      <th>66190</th>\n",
       "      <td>52.216438</td>\n",
       "      <td>1</td>\n",
       "      <td>165</td>\n",
       "      <td>65.0</td>\n",
       "      <td>120</td>\n",
       "      <td>80</td>\n",
       "      <td>1</td>\n",
       "      <td>1</td>\n",
       "      <td>0</td>\n",
       "      <td>0</td>\n",
       "      <td>1</td>\n",
       "      <td>1</td>\n",
       "    </tr>\n",
       "    <tr>\n",
       "      <th>68281</th>\n",
       "      <td>57.860274</td>\n",
       "      <td>1</td>\n",
       "      <td>160</td>\n",
       "      <td>60.0</td>\n",
       "      <td>120</td>\n",
       "      <td>80</td>\n",
       "      <td>1</td>\n",
       "      <td>1</td>\n",
       "      <td>0</td>\n",
       "      <td>0</td>\n",
       "      <td>0</td>\n",
       "      <td>1</td>\n",
       "    </tr>\n",
       "  </tbody>\n",
       "</table>\n",
       "</div>"
      ],
      "text/plain": [
       "             age  gender  height  weight  systolic  diastolic  cholesterol  \\\n",
       "10562  56.150685       1     165    70.0       120         80            1   \n",
       "21784  46.008219       1     165    68.0       120         80            1   \n",
       "38505  52.021918       1     164    65.0       120         80            1   \n",
       "40365  39.868493       1     158    64.0       120         80            1   \n",
       "42450  50.282192       1     169    67.0       120         80            1   \n",
       "44653  46.402740       2     170    70.0       120         80            1   \n",
       "45125  58.301370       1     165    65.0       120         80            1   \n",
       "45748  60.484932       1     175    69.0       120         80            1   \n",
       "45810  58.164384       1     164    62.0       120         80            1   \n",
       "48917  60.123288       1     165    60.0       120         80            1   \n",
       "50432  47.926027       2     169    74.0       120         80            1   \n",
       "52552  60.117808       1     165    65.0       120         80            1   \n",
       "56643  48.041096       2     165    65.0       120         80            1   \n",
       "56906  55.597260       1     162    70.0       110         70            1   \n",
       "57946  51.931507       1     165    75.0       120         80            1   \n",
       "58730  54.405479       1     165    68.0       120         80            1   \n",
       "60453  56.208219       1     164    66.0       120         80            1   \n",
       "60474  46.041096       1     157    67.0       120         80            1   \n",
       "62318  51.997260       1     165    65.0       120         80            1   \n",
       "64169  44.273973       1     168    65.0       120         80            1   \n",
       "65079  49.890411       1     160    60.0       120         80            1   \n",
       "65622  59.665753       1     160    58.0       120         80            1   \n",
       "66190  52.216438       1     165    65.0       120         80            1   \n",
       "68281  57.860274       1     160    60.0       120         80            1   \n",
       "\n",
       "       glucose  smoke  alcohol  active  cardiovascular disease  \n",
       "10562        1      0        0       1                       0  \n",
       "21784        1      0        0       1                       0  \n",
       "38505        1      0        0       1                       0  \n",
       "40365        1      0        0       1                       0  \n",
       "42450        1      0        0       1                       0  \n",
       "44653        1      0        0       0                       0  \n",
       "45125        1      0        0       1                       0  \n",
       "45748        1      0        0       1                       1  \n",
       "45810        1      0        0       1                       0  \n",
       "48917        1      0        0       1                       0  \n",
       "50432        1      0        0       1                       1  \n",
       "52552        1      0        0       1                       1  \n",
       "56643        1      0        0       1                       0  \n",
       "56906        1      0        0       1                       0  \n",
       "57946        1      0        0       1                       1  \n",
       "58730        1      0        0       1                       0  \n",
       "60453        1      0        0       0                       0  \n",
       "60474        1      0        0       1                       0  \n",
       "62318        1      0        0       0                       0  \n",
       "64169        1      0        0       1                       1  \n",
       "65079        1      0        0       1                       0  \n",
       "65622        1      0        0       1                       0  \n",
       "66190        1      0        0       1                       1  \n",
       "68281        1      0        0       0                       1  "
      ]
     },
     "execution_count": 17,
     "metadata": {},
     "output_type": "execute_result"
    }
   ],
   "source": [
    "df_train[df_train.duplicated()]"
   ]
  },
  {
   "cell_type": "code",
   "execution_count": 18,
   "metadata": {
    "execution": {
     "iopub.execute_input": "2023-02-08T06:40:30.766119Z",
     "iopub.status.busy": "2023-02-08T06:40:30.765539Z",
     "iopub.status.idle": "2023-02-08T06:40:30.785361Z",
     "shell.execute_reply": "2023-02-08T06:40:30.784673Z",
     "shell.execute_reply.started": "2023-02-08T06:40:30.765797Z"
    }
   },
   "outputs": [],
   "source": [
    "df_train.drop_duplicates(inplace=True)"
   ]
  },
  {
   "cell_type": "code",
   "execution_count": 19,
   "metadata": {
    "execution": {
     "iopub.execute_input": "2023-02-08T06:40:30.787289Z",
     "iopub.status.busy": "2023-02-08T06:40:30.786743Z",
     "iopub.status.idle": "2023-02-08T06:40:30.799238Z",
     "shell.execute_reply": "2023-02-08T06:40:30.798538Z",
     "shell.execute_reply.started": "2023-02-08T06:40:30.786983Z"
    },
    "scrolled": true
   },
   "outputs": [
    {
     "data": {
      "text/plain": [
       "age                       69976\n",
       "gender                    69976\n",
       "height                    69976\n",
       "weight                    69976\n",
       "systolic                  69976\n",
       "diastolic                 69976\n",
       "cholesterol               69976\n",
       "glucose                   69976\n",
       "smoke                     69976\n",
       "alcohol                   69976\n",
       "active                    69976\n",
       "cardiovascular disease    69976\n",
       "dtype: int64"
      ]
     },
     "execution_count": 19,
     "metadata": {},
     "output_type": "execute_result"
    }
   ],
   "source": [
    "df_train.count()"
   ]
  },
  {
   "cell_type": "code",
   "execution_count": 20,
   "metadata": {
    "execution": {
     "iopub.execute_input": "2023-02-08T06:40:30.802198Z",
     "iopub.status.busy": "2023-02-08T06:40:30.801979Z",
     "iopub.status.idle": "2023-02-08T06:40:30.812821Z",
     "shell.execute_reply": "2023-02-08T06:40:30.811877Z",
     "shell.execute_reply.started": "2023-02-08T06:40:30.802154Z"
    },
    "scrolled": true
   },
   "outputs": [
    {
     "data": {
      "text/plain": [
       "age                       0\n",
       "gender                    0\n",
       "height                    0\n",
       "weight                    0\n",
       "systolic                  0\n",
       "diastolic                 0\n",
       "cholesterol               0\n",
       "glucose                   0\n",
       "smoke                     0\n",
       "alcohol                   0\n",
       "active                    0\n",
       "cardiovascular disease    0\n",
       "dtype: int64"
      ]
     },
     "execution_count": 20,
     "metadata": {},
     "output_type": "execute_result"
    }
   ],
   "source": [
    "df_train.isnull().sum()"
   ]
  },
  {
   "cell_type": "markdown",
   "metadata": {},
   "source": [
    "## Exploratory Data Analysis"
   ]
  },
  {
   "cell_type": "code",
   "execution_count": 21,
   "metadata": {
    "execution": {
     "iopub.execute_input": "2023-02-08T06:40:30.814844Z",
     "iopub.status.busy": "2023-02-08T06:40:30.814431Z",
     "iopub.status.idle": "2023-02-08T06:40:30.829701Z",
     "shell.execute_reply": "2023-02-08T06:40:30.828697Z",
     "shell.execute_reply.started": "2023-02-08T06:40:30.814667Z"
    },
    "scrolled": true
   },
   "outputs": [
    {
     "data": {
      "text/html": [
       "<div>\n",
       "<style scoped>\n",
       "    .dataframe tbody tr th:only-of-type {\n",
       "        vertical-align: middle;\n",
       "    }\n",
       "\n",
       "    .dataframe tbody tr th {\n",
       "        vertical-align: top;\n",
       "    }\n",
       "\n",
       "    .dataframe thead th {\n",
       "        text-align: right;\n",
       "    }\n",
       "</style>\n",
       "<table border=\"1\" class=\"dataframe\">\n",
       "  <thead>\n",
       "    <tr style=\"text-align: right;\">\n",
       "      <th></th>\n",
       "      <th>age</th>\n",
       "      <th>gender</th>\n",
       "      <th>height</th>\n",
       "      <th>weight</th>\n",
       "      <th>systolic</th>\n",
       "      <th>diastolic</th>\n",
       "      <th>cholesterol</th>\n",
       "      <th>glucose</th>\n",
       "      <th>smoke</th>\n",
       "      <th>alcohol</th>\n",
       "      <th>active</th>\n",
       "      <th>cardiovascular disease</th>\n",
       "    </tr>\n",
       "  </thead>\n",
       "  <tbody>\n",
       "    <tr>\n",
       "      <th>0</th>\n",
       "      <td>50.391781</td>\n",
       "      <td>2</td>\n",
       "      <td>168</td>\n",
       "      <td>62.0</td>\n",
       "      <td>110</td>\n",
       "      <td>80</td>\n",
       "      <td>1</td>\n",
       "      <td>1</td>\n",
       "      <td>0</td>\n",
       "      <td>0</td>\n",
       "      <td>1</td>\n",
       "      <td>0</td>\n",
       "    </tr>\n",
       "    <tr>\n",
       "      <th>1</th>\n",
       "      <td>55.419178</td>\n",
       "      <td>1</td>\n",
       "      <td>156</td>\n",
       "      <td>85.0</td>\n",
       "      <td>140</td>\n",
       "      <td>90</td>\n",
       "      <td>3</td>\n",
       "      <td>1</td>\n",
       "      <td>0</td>\n",
       "      <td>0</td>\n",
       "      <td>1</td>\n",
       "      <td>1</td>\n",
       "    </tr>\n",
       "    <tr>\n",
       "      <th>2</th>\n",
       "      <td>51.663014</td>\n",
       "      <td>1</td>\n",
       "      <td>165</td>\n",
       "      <td>64.0</td>\n",
       "      <td>130</td>\n",
       "      <td>70</td>\n",
       "      <td>3</td>\n",
       "      <td>1</td>\n",
       "      <td>0</td>\n",
       "      <td>0</td>\n",
       "      <td>0</td>\n",
       "      <td>1</td>\n",
       "    </tr>\n",
       "    <tr>\n",
       "      <th>3</th>\n",
       "      <td>48.282192</td>\n",
       "      <td>2</td>\n",
       "      <td>169</td>\n",
       "      <td>82.0</td>\n",
       "      <td>150</td>\n",
       "      <td>100</td>\n",
       "      <td>1</td>\n",
       "      <td>1</td>\n",
       "      <td>0</td>\n",
       "      <td>0</td>\n",
       "      <td>1</td>\n",
       "      <td>1</td>\n",
       "    </tr>\n",
       "    <tr>\n",
       "      <th>4</th>\n",
       "      <td>47.873973</td>\n",
       "      <td>1</td>\n",
       "      <td>156</td>\n",
       "      <td>56.0</td>\n",
       "      <td>100</td>\n",
       "      <td>60</td>\n",
       "      <td>1</td>\n",
       "      <td>1</td>\n",
       "      <td>0</td>\n",
       "      <td>0</td>\n",
       "      <td>0</td>\n",
       "      <td>0</td>\n",
       "    </tr>\n",
       "  </tbody>\n",
       "</table>\n",
       "</div>"
      ],
      "text/plain": [
       "         age  gender  height  weight  systolic  diastolic  cholesterol  \\\n",
       "0  50.391781       2     168    62.0       110         80            1   \n",
       "1  55.419178       1     156    85.0       140         90            3   \n",
       "2  51.663014       1     165    64.0       130         70            3   \n",
       "3  48.282192       2     169    82.0       150        100            1   \n",
       "4  47.873973       1     156    56.0       100         60            1   \n",
       "\n",
       "   glucose  smoke  alcohol  active  cardiovascular disease  \n",
       "0        1      0        0       1                       0  \n",
       "1        1      0        0       1                       1  \n",
       "2        1      0        0       0                       1  \n",
       "3        1      0        0       1                       1  \n",
       "4        1      0        0       0                       0  "
      ]
     },
     "execution_count": 21,
     "metadata": {},
     "output_type": "execute_result"
    }
   ],
   "source": [
    "df_train.head()"
   ]
  },
  {
   "cell_type": "code",
   "execution_count": 22,
   "metadata": {
    "execution": {
     "iopub.execute_input": "2023-02-08T06:40:30.832073Z",
     "iopub.status.busy": "2023-02-08T06:40:30.831638Z",
     "iopub.status.idle": "2023-02-08T06:40:30.963037Z",
     "shell.execute_reply": "2023-02-08T06:40:30.962188Z",
     "shell.execute_reply.started": "2023-02-08T06:40:30.831879Z"
    }
   },
   "outputs": [
    {
     "data": {
      "image/png": "[encoded data removed]",
      "text/plain": [
       "<Figure size 432x288 with 1 Axes>"
      ]
     },
     "metadata": {
      "needs_background": "light"
     },
     "output_type": "display_data"
    }
   ],
   "source": [
    "sns.countplot(x='gender', hue='cardiovascular disease', data=df_train)\n",
    "plt.show()"
   ]
  },
  {
   "cell_type": "code",
   "execution_count": 23,
   "metadata": {
    "execution": {
     "iopub.execute_input": "2023-02-08T06:40:30.964803Z",
     "iopub.status.busy": "2023-02-08T06:40:30.964471Z",
     "iopub.status.idle": "2023-02-08T06:40:31.105344Z",
     "shell.execute_reply": "2023-02-08T06:40:31.104348Z",
     "shell.execute_reply.started": "2023-02-08T06:40:30.964724Z"
    }
   },
   "outputs": [
    {
     "data": {
      "image/png": "[encoded data removed]",
      "text/plain": [
       "<Figure size 432x288 with 1 Axes>"
      ]
     },
     "metadata": {
      "needs_background": "light"
     },
     "output_type": "display_data"
    }
   ],
   "source": [
    "sns.countplot(x='cholesterol', hue='cardiovascular disease', data=df_train)\n",
    "plt.show()\n",
    "# There appears to be a correlation between higher cholesterol levels and cardiovascular disease\n",
    "# chloesterol levels: 1 = normal, 2 = above normal, 3 = well above normal"
   ]
  },
  {
   "cell_type": "code",
   "execution_count": 24,
   "metadata": {
    "execution": {
     "iopub.execute_input": "2023-02-08T06:40:31.107669Z",
     "iopub.status.busy": "2023-02-08T06:40:31.107082Z",
     "iopub.status.idle": "2023-02-08T06:40:31.250480Z",
     "shell.execute_reply": "2023-02-08T06:40:31.249669Z",
     "shell.execute_reply.started": "2023-02-08T06:40:31.107367Z"
    }
   },
   "outputs": [
    {
     "data": {
      "image/png": "[encoded data removed]",
      "text/plain": [
       "<Figure size 432x288 with 1 Axes>"
      ]
     },
     "metadata": {
      "needs_background": "light"
     },
     "output_type": "display_data"
    }
   ],
   "source": [
    "sns.countplot(x='glucose', hue='cardiovascular disease', data=df_train)\n",
    "plt.show()\n",
    "# There appears to be another correlation between higher glucose levels and cardiovascular disease\n",
    "# glucose levels: 1 = normal, 2 = above normal, 3 = well above normal"
   ]
  },
  {
   "cell_type": "code",
   "execution_count": 25,
   "metadata": {
    "execution": {
     "iopub.execute_input": "2023-02-08T06:40:31.252283Z",
     "iopub.status.busy": "2023-02-08T06:40:31.251818Z",
     "iopub.status.idle": "2023-02-08T06:40:31.388352Z",
     "shell.execute_reply": "2023-02-08T06:40:31.387359Z",
     "shell.execute_reply.started": "2023-02-08T06:40:31.252229Z"
    }
   },
   "outputs": [
    {
     "data": {
      "image/png": "[encoded data removed]",
      "text/plain": [
       "<Figure size 432x288 with 1 Axes>"
      ]
     },
     "metadata": {
      "needs_background": "light"
     },
     "output_type": "display_data"
    }
   ],
   "source": [
    "sns.countplot(x='active', hue='cardiovascular disease', data=df_train)\n",
    "plt.show()"
   ]
  },
  {
   "cell_type": "code",
   "execution_count": 26,
   "metadata": {
    "execution": {
     "iopub.execute_input": "2023-02-08T06:40:31.390512Z",
     "iopub.status.busy": "2023-02-08T06:40:31.389983Z",
     "iopub.status.idle": "2023-02-08T06:40:31.524060Z",
     "shell.execute_reply": "2023-02-08T06:40:31.523246Z",
     "shell.execute_reply.started": "2023-02-08T06:40:31.390300Z"
    },
    "scrolled": true
   },
   "outputs": [
    {
     "data": {
      "image/png": "[encoded data removed]",
      "text/plain": [
       "<Figure size 432x288 with 1 Axes>"
      ]
     },
     "metadata": {
      "needs_background": "light"
     },
     "output_type": "display_data"
    }
   ],
   "source": [
    "sns.countplot(x='smoke', hue='cardiovascular disease', data=df_train)\n",
    "plt.show()"
   ]
  },
  {
   "cell_type": "code",
   "execution_count": 27,
   "metadata": {
    "execution": {
     "iopub.execute_input": "2023-02-08T06:40:31.526828Z",
     "iopub.status.busy": "2023-02-08T06:40:31.526286Z",
     "iopub.status.idle": "2023-02-08T06:40:31.713332Z",
     "shell.execute_reply": "2023-02-08T06:40:31.711333Z",
     "shell.execute_reply.started": "2023-02-08T06:40:31.526773Z"
    },
    "scrolled": true
   },
   "outputs": [
    {
     "data": {
      "image/png": "[encoded data removed]",
      "text/plain": [
       "<Figure size 432x288 with 1 Axes>"
      ]
     },
     "metadata": {
      "needs_background": "light"
     },
     "output_type": "display_data"
    }
   ],
   "source": [
    "sns.countplot(x='alcohol', hue='cardiovascular disease', data=df_train)\n",
    "plt.show()"
   ]
  },
  {
   "cell_type": "code",
   "execution_count": 28,
   "metadata": {
    "execution": {
     "iopub.execute_input": "2023-02-08T06:40:31.715346Z",
     "iopub.status.busy": "2023-02-08T06:40:31.714800Z",
     "iopub.status.idle": "2023-02-08T06:40:31.963466Z",
     "shell.execute_reply": "2023-02-08T06:40:31.962237Z",
     "shell.execute_reply.started": "2023-02-08T06:40:31.715074Z"
    }
   },
   "outputs": [
    {
     "data": {
      "image/png": "[encoded data removed]",
      "text/plain": [
       "<Figure size 432x288 with 1 Axes>"
      ]
     },
     "metadata": {
      "needs_background": "light"
     },
     "output_type": "display_data"
    }
   ],
   "source": [
    "sns.distplot(df_train['weight'], kde=False)\n",
    "plt.show()"
   ]
  },
  {
   "cell_type": "code",
   "execution_count": 29,
   "metadata": {
    "execution": {
     "iopub.execute_input": "2023-02-08T06:40:31.972986Z",
     "iopub.status.busy": "2023-02-08T06:40:31.969112Z",
     "iopub.status.idle": "2023-02-08T06:40:31.994815Z",
     "shell.execute_reply": "2023-02-08T06:40:31.994087Z",
     "shell.execute_reply.started": "2023-02-08T06:40:31.972782Z"
    },
    "scrolled": true
   },
   "outputs": [
    {
     "data": {
      "text/plain": [
       "57858    10.0\n",
       "33817    11.0\n",
       "60188    21.0\n",
       "29488    22.0\n",
       "26806    23.0\n",
       "Name: weight, dtype: float64"
      ]
     },
     "execution_count": 29,
     "metadata": {},
     "output_type": "execute_result"
    }
   ],
   "source": [
    "df_train['weight'].sort_values().head()"
   ]
  },
  {
   "cell_type": "code",
   "execution_count": 30,
   "metadata": {
    "execution": {
     "iopub.execute_input": "2023-02-08T06:40:31.999102Z",
     "iopub.status.busy": "2023-02-08T06:40:31.998810Z",
     "iopub.status.idle": "2023-02-08T06:40:32.361226Z",
     "shell.execute_reply": "2023-02-08T06:40:32.360442Z",
     "shell.execute_reply.started": "2023-02-08T06:40:31.999053Z"
    },
    "scrolled": true
   },
   "outputs": [
    {
     "data": {
      "image/png": "[encoded data removed]",
      "text/plain": [
       "<Figure size 432x288 with 1 Axes>"
      ]
     },
     "metadata": {
      "needs_background": "light"
     },
     "output_type": "display_data"
    }
   ],
   "source": [
    "sns.distplot(df_train['height'], kde=False)\n",
    "plt.show()"
   ]
  },
  {
   "cell_type": "code",
   "execution_count": 31,
   "metadata": {
    "execution": {
     "iopub.execute_input": "2023-02-08T06:40:32.367337Z",
     "iopub.status.busy": "2023-02-08T06:40:32.365142Z",
     "iopub.status.idle": "2023-02-08T06:40:32.376589Z",
     "shell.execute_reply": "2023-02-08T06:40:32.375805Z",
     "shell.execute_reply.started": "2023-02-08T06:40:32.367280Z"
    },
    "scrolled": true
   },
   "outputs": [
    {
     "data": {
      "text/plain": [
       "250"
      ]
     },
     "execution_count": 31,
     "metadata": {},
     "output_type": "execute_result"
    }
   ],
   "source": [
    "df_train['height'].max()"
   ]
  },
  {
   "cell_type": "markdown",
   "metadata": {},
   "source": [
    "This maximum height of 250 cm/8.2 ft seems unlikely "
   ]
  },
  {
   "cell_type": "code",
   "execution_count": 32,
   "metadata": {
    "execution": {
     "iopub.execute_input": "2023-02-08T06:40:32.390407Z",
     "iopub.status.busy": "2023-02-08T06:40:32.388449Z",
     "iopub.status.idle": "2023-02-08T06:40:32.405044Z",
     "shell.execute_reply": "2023-02-08T06:40:32.404342Z",
     "shell.execute_reply.started": "2023-02-08T06:40:32.390346Z"
    },
    "scrolled": true
   },
   "outputs": [
    {
     "data": {
      "text/plain": [
       "22723    55\n",
       "66643    57\n",
       "64115    59\n",
       "29157    60\n",
       "27603    64\n",
       "Name: height, dtype: int64"
      ]
     },
     "execution_count": 32,
     "metadata": {},
     "output_type": "execute_result"
    }
   ],
   "source": [
    "df_train['height'].sort_values().head()"
   ]
  },
  {
   "cell_type": "markdown",
   "metadata": {},
   "source": [
    "## Feature Engineering"
   ]
  },
  {
   "cell_type": "markdown",
   "metadata": {},
   "source": [
    "**Body Mass Index (BMI)** is a common metric used for medical evaluation and heart health <br>\n",
    "BMI can be calculated by the following: BMI = weight(kg) / height (cm) / height (cm) x 10,000 <br>\n",
    "<br>\n",
    "**Pulse Pressure** is another indicator of heart health <br>\n",
    "Pulse Pressure can be calculated by the following: Pulse Pressure = systolic - diastolic <br>\n",
    "Typically, a pulse pressure greater than 60 can be a useful predictor of heart attacks or other cardiovascular diseases"
   ]
  },
  {
   "cell_type": "code",
   "execution_count": 33,
   "metadata": {
    "execution": {
     "iopub.execute_input": "2023-02-08T06:40:32.407081Z",
     "iopub.status.busy": "2023-02-08T06:40:32.406567Z",
     "iopub.status.idle": "2023-02-08T06:40:32.418181Z",
     "shell.execute_reply": "2023-02-08T06:40:32.417492Z",
     "shell.execute_reply.started": "2023-02-08T06:40:32.407032Z"
    }
   },
   "outputs": [],
   "source": [
    "df_train['BMI'] = df_train['weight'] / df_train['height'] / df_train['height'] * 10000\n",
    "df_train['pulse pressure'] = df_train['systolic'] - df_train['diastolic']"
   ]
  },
  {
   "cell_type": "code",
   "execution_count": 34,
   "metadata": {
    "execution": {
     "iopub.execute_input": "2023-02-08T06:40:32.420516Z",
     "iopub.status.busy": "2023-02-08T06:40:32.419765Z",
     "iopub.status.idle": "2023-02-08T06:40:32.441030Z",
     "shell.execute_reply": "2023-02-08T06:40:32.440336Z",
     "shell.execute_reply.started": "2023-02-08T06:40:32.420466Z"
    }
   },
   "outputs": [
    {
     "data": {
      "text/html": [
       "<div>\n",
       "<style scoped>\n",
       "    .dataframe tbody tr th:only-of-type {\n",
       "        vertical-align: middle;\n",
       "    }\n",
       "\n",
       "    .dataframe tbody tr th {\n",
       "        vertical-align: top;\n",
       "    }\n",
       "\n",
       "    .dataframe thead th {\n",
       "        text-align: right;\n",
       "    }\n",
       "</style>\n",
       "<table border=\"1\" class=\"dataframe\">\n",
       "  <thead>\n",
       "    <tr style=\"text-align: right;\">\n",
       "      <th></th>\n",
       "      <th>age</th>\n",
       "      <th>gender</th>\n",
       "      <th>height</th>\n",
       "      <th>weight</th>\n",
       "      <th>systolic</th>\n",
       "      <th>diastolic</th>\n",
       "      <th>cholesterol</th>\n",
       "      <th>glucose</th>\n",
       "      <th>smoke</th>\n",
       "      <th>alcohol</th>\n",
       "      <th>active</th>\n",
       "      <th>cardiovascular disease</th>\n",
       "      <th>BMI</th>\n",
       "      <th>pulse pressure</th>\n",
       "    </tr>\n",
       "  </thead>\n",
       "  <tbody>\n",
       "    <tr>\n",
       "      <th>0</th>\n",
       "      <td>50.391781</td>\n",
       "      <td>2</td>\n",
       "      <td>168</td>\n",
       "      <td>62.0</td>\n",
       "      <td>110</td>\n",
       "      <td>80</td>\n",
       "      <td>1</td>\n",
       "      <td>1</td>\n",
       "      <td>0</td>\n",
       "      <td>0</td>\n",
       "      <td>1</td>\n",
       "      <td>0</td>\n",
       "      <td>21.967120</td>\n",
       "      <td>30</td>\n",
       "    </tr>\n",
       "    <tr>\n",
       "      <th>1</th>\n",
       "      <td>55.419178</td>\n",
       "      <td>1</td>\n",
       "      <td>156</td>\n",
       "      <td>85.0</td>\n",
       "      <td>140</td>\n",
       "      <td>90</td>\n",
       "      <td>3</td>\n",
       "      <td>1</td>\n",
       "      <td>0</td>\n",
       "      <td>0</td>\n",
       "      <td>1</td>\n",
       "      <td>1</td>\n",
       "      <td>34.927679</td>\n",
       "      <td>50</td>\n",
       "    </tr>\n",
       "    <tr>\n",
       "      <th>2</th>\n",
       "      <td>51.663014</td>\n",
       "      <td>1</td>\n",
       "      <td>165</td>\n",
       "      <td>64.0</td>\n",
       "      <td>130</td>\n",
       "      <td>70</td>\n",
       "      <td>3</td>\n",
       "      <td>1</td>\n",
       "      <td>0</td>\n",
       "      <td>0</td>\n",
       "      <td>0</td>\n",
       "      <td>1</td>\n",
       "      <td>23.507805</td>\n",
       "      <td>60</td>\n",
       "    </tr>\n",
       "    <tr>\n",
       "      <th>3</th>\n",
       "      <td>48.282192</td>\n",
       "      <td>2</td>\n",
       "      <td>169</td>\n",
       "      <td>82.0</td>\n",
       "      <td>150</td>\n",
       "      <td>100</td>\n",
       "      <td>1</td>\n",
       "      <td>1</td>\n",
       "      <td>0</td>\n",
       "      <td>0</td>\n",
       "      <td>1</td>\n",
       "      <td>1</td>\n",
       "      <td>28.710479</td>\n",
       "      <td>50</td>\n",
       "    </tr>\n",
       "    <tr>\n",
       "      <th>4</th>\n",
       "      <td>47.873973</td>\n",
       "      <td>1</td>\n",
       "      <td>156</td>\n",
       "      <td>56.0</td>\n",
       "      <td>100</td>\n",
       "      <td>60</td>\n",
       "      <td>1</td>\n",
       "      <td>1</td>\n",
       "      <td>0</td>\n",
       "      <td>0</td>\n",
       "      <td>0</td>\n",
       "      <td>0</td>\n",
       "      <td>23.011177</td>\n",
       "      <td>40</td>\n",
       "    </tr>\n",
       "  </tbody>\n",
       "</table>\n",
       "</div>"
      ],
      "text/plain": [
       "         age  gender  height  weight  systolic  diastolic  cholesterol  \\\n",
       "0  50.391781       2     168    62.0       110         80            1   \n",
       "1  55.419178       1     156    85.0       140         90            3   \n",
       "2  51.663014       1     165    64.0       130         70            3   \n",
       "3  48.282192       2     169    82.0       150        100            1   \n",
       "4  47.873973       1     156    56.0       100         60            1   \n",
       "\n",
       "   glucose  smoke  alcohol  active  cardiovascular disease        BMI  \\\n",
       "0        1      0        0       1                       0  21.967120   \n",
       "1        1      0        0       1                       1  34.927679   \n",
       "2        1      0        0       0                       1  23.507805   \n",
       "3        1      0        0       1                       1  28.710479   \n",
       "4        1      0        0       0                       0  23.011177   \n",
       "\n",
       "   pulse pressure  \n",
       "0              30  \n",
       "1              50  \n",
       "2              60  \n",
       "3              50  \n",
       "4              40  "
      ]
     },
     "execution_count": 34,
     "metadata": {},
     "output_type": "execute_result"
    }
   ],
   "source": [
    "df_train.head()\n",
    "# Quick look at the dataframe to make sure these new features have been added"
   ]
  },
  {
   "cell_type": "code",
   "execution_count": 35,
   "metadata": {
    "execution": {
     "iopub.execute_input": "2023-02-08T06:40:32.442768Z",
     "iopub.status.busy": "2023-02-08T06:40:32.442301Z",
     "iopub.status.idle": "2023-02-08T06:40:32.711473Z",
     "shell.execute_reply": "2023-02-08T06:40:32.710755Z",
     "shell.execute_reply.started": "2023-02-08T06:40:32.442721Z"
    }
   },
   "outputs": [
    {
     "data": {
      "image/png": "[encoded data removed]",
      "text/plain": [
       "<Figure size 576x288 with 1 Axes>"
      ]
     },
     "metadata": {
      "needs_background": "light"
     },
     "output_type": "display_data"
    }
   ],
   "source": [
    "plt.figure(figsize=(8,4))\n",
    "sns.distplot(df_train['BMI'], bins=50, kde=False)\n",
    "plt.show()"
   ]
  },
  {
   "cell_type": "code",
   "execution_count": 36,
   "metadata": {
    "execution": {
     "iopub.execute_input": "2023-02-08T06:40:32.713552Z",
     "iopub.status.busy": "2023-02-08T06:40:32.713089Z",
     "iopub.status.idle": "2023-02-08T06:40:32.742579Z",
     "shell.execute_reply": "2023-02-08T06:40:32.741685Z",
     "shell.execute_reply.started": "2023-02-08T06:40:32.713500Z"
    }
   },
   "outputs": [
    {
     "data": {
      "text/html": [
       "<div>\n",
       "<style scoped>\n",
       "    .dataframe tbody tr th:only-of-type {\n",
       "        vertical-align: middle;\n",
       "    }\n",
       "\n",
       "    .dataframe tbody tr th {\n",
       "        vertical-align: top;\n",
       "    }\n",
       "\n",
       "    .dataframe thead th {\n",
       "        text-align: right;\n",
       "    }\n",
       "</style>\n",
       "<table border=\"1\" class=\"dataframe\">\n",
       "  <thead>\n",
       "    <tr style=\"text-align: right;\">\n",
       "      <th></th>\n",
       "      <th>age</th>\n",
       "      <th>gender</th>\n",
       "      <th>height</th>\n",
       "      <th>weight</th>\n",
       "      <th>systolic</th>\n",
       "      <th>diastolic</th>\n",
       "      <th>cholesterol</th>\n",
       "      <th>glucose</th>\n",
       "      <th>smoke</th>\n",
       "      <th>alcohol</th>\n",
       "      <th>active</th>\n",
       "      <th>cardiovascular disease</th>\n",
       "      <th>BMI</th>\n",
       "      <th>pulse pressure</th>\n",
       "    </tr>\n",
       "  </thead>\n",
       "  <tbody>\n",
       "    <tr>\n",
       "      <th>6153</th>\n",
       "      <td>57.506849</td>\n",
       "      <td>1</td>\n",
       "      <td>122</td>\n",
       "      <td>161.0</td>\n",
       "      <td>120</td>\n",
       "      <td>80</td>\n",
       "      <td>1</td>\n",
       "      <td>1</td>\n",
       "      <td>0</td>\n",
       "      <td>0</td>\n",
       "      <td>1</td>\n",
       "      <td>1</td>\n",
       "      <td>108.169847</td>\n",
       "      <td>40</td>\n",
       "    </tr>\n",
       "    <tr>\n",
       "      <th>7598</th>\n",
       "      <td>40.167123</td>\n",
       "      <td>2</td>\n",
       "      <td>70</td>\n",
       "      <td>72.0</td>\n",
       "      <td>120</td>\n",
       "      <td>8</td>\n",
       "      <td>1</td>\n",
       "      <td>1</td>\n",
       "      <td>0</td>\n",
       "      <td>0</td>\n",
       "      <td>1</td>\n",
       "      <td>0</td>\n",
       "      <td>146.938776</td>\n",
       "      <td>112</td>\n",
       "    </tr>\n",
       "    <tr>\n",
       "      <th>8171</th>\n",
       "      <td>48.345205</td>\n",
       "      <td>2</td>\n",
       "      <td>97</td>\n",
       "      <td>170.0</td>\n",
       "      <td>160</td>\n",
       "      <td>100</td>\n",
       "      <td>1</td>\n",
       "      <td>1</td>\n",
       "      <td>1</td>\n",
       "      <td>0</td>\n",
       "      <td>1</td>\n",
       "      <td>1</td>\n",
       "      <td>180.678074</td>\n",
       "      <td>60</td>\n",
       "    </tr>\n",
       "    <tr>\n",
       "      <th>12770</th>\n",
       "      <td>53.682192</td>\n",
       "      <td>1</td>\n",
       "      <td>75</td>\n",
       "      <td>168.0</td>\n",
       "      <td>120</td>\n",
       "      <td>80</td>\n",
       "      <td>1</td>\n",
       "      <td>1</td>\n",
       "      <td>1</td>\n",
       "      <td>0</td>\n",
       "      <td>1</td>\n",
       "      <td>1</td>\n",
       "      <td>298.666667</td>\n",
       "      <td>40</td>\n",
       "    </tr>\n",
       "    <tr>\n",
       "      <th>13265</th>\n",
       "      <td>61.523288</td>\n",
       "      <td>2</td>\n",
       "      <td>71</td>\n",
       "      <td>68.0</td>\n",
       "      <td>120</td>\n",
       "      <td>80</td>\n",
       "      <td>3</td>\n",
       "      <td>1</td>\n",
       "      <td>0</td>\n",
       "      <td>0</td>\n",
       "      <td>1</td>\n",
       "      <td>0</td>\n",
       "      <td>134.893870</td>\n",
       "      <td>40</td>\n",
       "    </tr>\n",
       "    <tr>\n",
       "      <th>14323</th>\n",
       "      <td>60.287671</td>\n",
       "      <td>1</td>\n",
       "      <td>67</td>\n",
       "      <td>57.0</td>\n",
       "      <td>120</td>\n",
       "      <td>90</td>\n",
       "      <td>1</td>\n",
       "      <td>1</td>\n",
       "      <td>0</td>\n",
       "      <td>0</td>\n",
       "      <td>1</td>\n",
       "      <td>1</td>\n",
       "      <td>126.977055</td>\n",
       "      <td>30</td>\n",
       "    </tr>\n",
       "    <tr>\n",
       "      <th>15167</th>\n",
       "      <td>43.320548</td>\n",
       "      <td>1</td>\n",
       "      <td>70</td>\n",
       "      <td>68.0</td>\n",
       "      <td>120</td>\n",
       "      <td>80</td>\n",
       "      <td>1</td>\n",
       "      <td>1</td>\n",
       "      <td>0</td>\n",
       "      <td>0</td>\n",
       "      <td>0</td>\n",
       "      <td>0</td>\n",
       "      <td>138.775510</td>\n",
       "      <td>40</td>\n",
       "    </tr>\n",
       "    <tr>\n",
       "      <th>15366</th>\n",
       "      <td>47.684932</td>\n",
       "      <td>1</td>\n",
       "      <td>125</td>\n",
       "      <td>167.0</td>\n",
       "      <td>180</td>\n",
       "      <td>90</td>\n",
       "      <td>1</td>\n",
       "      <td>2</td>\n",
       "      <td>0</td>\n",
       "      <td>0</td>\n",
       "      <td>1</td>\n",
       "      <td>1</td>\n",
       "      <td>106.880000</td>\n",
       "      <td>90</td>\n",
       "    </tr>\n",
       "    <tr>\n",
       "      <th>16699</th>\n",
       "      <td>53.917808</td>\n",
       "      <td>2</td>\n",
       "      <td>74</td>\n",
       "      <td>98.0</td>\n",
       "      <td>140</td>\n",
       "      <td>90</td>\n",
       "      <td>1</td>\n",
       "      <td>1</td>\n",
       "      <td>0</td>\n",
       "      <td>0</td>\n",
       "      <td>1</td>\n",
       "      <td>1</td>\n",
       "      <td>178.962747</td>\n",
       "      <td>50</td>\n",
       "    </tr>\n",
       "    <tr>\n",
       "      <th>20028</th>\n",
       "      <td>54.183562</td>\n",
       "      <td>1</td>\n",
       "      <td>112</td>\n",
       "      <td>167.0</td>\n",
       "      <td>180</td>\n",
       "      <td>120</td>\n",
       "      <td>1</td>\n",
       "      <td>1</td>\n",
       "      <td>0</td>\n",
       "      <td>1</td>\n",
       "      <td>1</td>\n",
       "      <td>0</td>\n",
       "      <td>133.131378</td>\n",
       "      <td>60</td>\n",
       "    </tr>\n",
       "  </tbody>\n",
       "</table>\n",
       "</div>"
      ],
      "text/plain": [
       "             age  gender  height  weight  systolic  diastolic  cholesterol  \\\n",
       "6153   57.506849       1     122   161.0       120         80            1   \n",
       "7598   40.167123       2      70    72.0       120          8            1   \n",
       "8171   48.345205       2      97   170.0       160        100            1   \n",
       "12770  53.682192       1      75   168.0       120         80            1   \n",
       "13265  61.523288       2      71    68.0       120         80            3   \n",
       "14323  60.287671       1      67    57.0       120         90            1   \n",
       "15167  43.320548       1      70    68.0       120         80            1   \n",
       "15366  47.684932       1     125   167.0       180         90            1   \n",
       "16699  53.917808       2      74    98.0       140         90            1   \n",
       "20028  54.183562       1     112   167.0       180        120            1   \n",
       "\n",
       "       glucose  smoke  alcohol  active  cardiovascular disease         BMI  \\\n",
       "6153         1      0        0       1                       1  108.169847   \n",
       "7598         1      0        0       1                       0  146.938776   \n",
       "8171         1      1        0       1                       1  180.678074   \n",
       "12770        1      1        0       1                       1  298.666667   \n",
       "13265        1      0        0       1                       0  134.893870   \n",
       "14323        1      0        0       1                       1  126.977055   \n",
       "15167        1      0        0       0                       0  138.775510   \n",
       "15366        2      0        0       1                       1  106.880000   \n",
       "16699        1      0        0       1                       1  178.962747   \n",
       "20028        1      0        1       1                       0  133.131378   \n",
       "\n",
       "       pulse pressure  \n",
       "6153               40  \n",
       "7598              112  \n",
       "8171               60  \n",
       "12770              40  \n",
       "13265              40  \n",
       "14323              30  \n",
       "15167              40  \n",
       "15366              90  \n",
       "16699              50  \n",
       "20028              60  "
      ]
     },
     "execution_count": 36,
     "metadata": {},
     "output_type": "execute_result"
    }
   ],
   "source": [
    "df_train[df_train['BMI'] > 100].head(10)"
   ]
  },
  {
   "cell_type": "markdown",
   "metadata": {},
   "source": [
    "Quick observation to see if extremely high BMI values correlate to cardiovascular disease"
   ]
  },
  {
   "cell_type": "code",
   "execution_count": 37,
   "metadata": {
    "execution": {
     "iopub.execute_input": "2023-02-08T06:40:32.744589Z",
     "iopub.status.busy": "2023-02-08T06:40:32.744121Z",
     "iopub.status.idle": "2023-02-08T06:40:32.768900Z",
     "shell.execute_reply": "2023-02-08T06:40:32.768170Z",
     "shell.execute_reply.started": "2023-02-08T06:40:32.744388Z"
    },
    "scrolled": true
   },
   "outputs": [
    {
     "data": {
      "text/html": [
       "<div>\n",
       "<style scoped>\n",
       "    .dataframe tbody tr th:only-of-type {\n",
       "        vertical-align: middle;\n",
       "    }\n",
       "\n",
       "    .dataframe tbody tr th {\n",
       "        vertical-align: top;\n",
       "    }\n",
       "\n",
       "    .dataframe thead th {\n",
       "        text-align: right;\n",
       "    }\n",
       "</style>\n",
       "<table border=\"1\" class=\"dataframe\">\n",
       "  <thead>\n",
       "    <tr style=\"text-align: right;\">\n",
       "      <th></th>\n",
       "      <th>age</th>\n",
       "      <th>gender</th>\n",
       "      <th>height</th>\n",
       "      <th>weight</th>\n",
       "      <th>systolic</th>\n",
       "      <th>diastolic</th>\n",
       "      <th>cholesterol</th>\n",
       "      <th>glucose</th>\n",
       "      <th>smoke</th>\n",
       "      <th>alcohol</th>\n",
       "      <th>active</th>\n",
       "      <th>cardiovascular disease</th>\n",
       "      <th>BMI</th>\n",
       "      <th>pulse pressure</th>\n",
       "    </tr>\n",
       "  </thead>\n",
       "  <tbody>\n",
       "    <tr>\n",
       "      <th>2</th>\n",
       "      <td>51.663014</td>\n",
       "      <td>1</td>\n",
       "      <td>165</td>\n",
       "      <td>64.0</td>\n",
       "      <td>130</td>\n",
       "      <td>70</td>\n",
       "      <td>3</td>\n",
       "      <td>1</td>\n",
       "      <td>0</td>\n",
       "      <td>0</td>\n",
       "      <td>0</td>\n",
       "      <td>1</td>\n",
       "      <td>23.507805</td>\n",
       "      <td>60</td>\n",
       "    </tr>\n",
       "    <tr>\n",
       "      <th>24</th>\n",
       "      <td>45.501370</td>\n",
       "      <td>1</td>\n",
       "      <td>170</td>\n",
       "      <td>68.0</td>\n",
       "      <td>150</td>\n",
       "      <td>90</td>\n",
       "      <td>3</td>\n",
       "      <td>1</td>\n",
       "      <td>0</td>\n",
       "      <td>0</td>\n",
       "      <td>1</td>\n",
       "      <td>1</td>\n",
       "      <td>23.529412</td>\n",
       "      <td>60</td>\n",
       "    </tr>\n",
       "    <tr>\n",
       "      <th>44</th>\n",
       "      <td>54.147945</td>\n",
       "      <td>1</td>\n",
       "      <td>154</td>\n",
       "      <td>50.0</td>\n",
       "      <td>170</td>\n",
       "      <td>80</td>\n",
       "      <td>3</td>\n",
       "      <td>1</td>\n",
       "      <td>0</td>\n",
       "      <td>0</td>\n",
       "      <td>1</td>\n",
       "      <td>1</td>\n",
       "      <td>21.082813</td>\n",
       "      <td>90</td>\n",
       "    </tr>\n",
       "    <tr>\n",
       "      <th>61</th>\n",
       "      <td>57.424658</td>\n",
       "      <td>2</td>\n",
       "      <td>165</td>\n",
       "      <td>75.0</td>\n",
       "      <td>180</td>\n",
       "      <td>90</td>\n",
       "      <td>3</td>\n",
       "      <td>1</td>\n",
       "      <td>0</td>\n",
       "      <td>0</td>\n",
       "      <td>1</td>\n",
       "      <td>1</td>\n",
       "      <td>27.548209</td>\n",
       "      <td>90</td>\n",
       "    </tr>\n",
       "    <tr>\n",
       "      <th>194</th>\n",
       "      <td>60.243836</td>\n",
       "      <td>1</td>\n",
       "      <td>162</td>\n",
       "      <td>62.0</td>\n",
       "      <td>140</td>\n",
       "      <td>80</td>\n",
       "      <td>3</td>\n",
       "      <td>1</td>\n",
       "      <td>0</td>\n",
       "      <td>0</td>\n",
       "      <td>1</td>\n",
       "      <td>1</td>\n",
       "      <td>23.624447</td>\n",
       "      <td>60</td>\n",
       "    </tr>\n",
       "    <tr>\n",
       "      <th>221</th>\n",
       "      <td>48.194521</td>\n",
       "      <td>1</td>\n",
       "      <td>157</td>\n",
       "      <td>70.0</td>\n",
       "      <td>160</td>\n",
       "      <td>100</td>\n",
       "      <td>3</td>\n",
       "      <td>1</td>\n",
       "      <td>0</td>\n",
       "      <td>0</td>\n",
       "      <td>0</td>\n",
       "      <td>1</td>\n",
       "      <td>28.398718</td>\n",
       "      <td>60</td>\n",
       "    </tr>\n",
       "    <tr>\n",
       "      <th>230</th>\n",
       "      <td>64.043836</td>\n",
       "      <td>2</td>\n",
       "      <td>175</td>\n",
       "      <td>75.0</td>\n",
       "      <td>180</td>\n",
       "      <td>100</td>\n",
       "      <td>3</td>\n",
       "      <td>1</td>\n",
       "      <td>1</td>\n",
       "      <td>1</td>\n",
       "      <td>1</td>\n",
       "      <td>1</td>\n",
       "      <td>24.489796</td>\n",
       "      <td>80</td>\n",
       "    </tr>\n",
       "    <tr>\n",
       "      <th>275</th>\n",
       "      <td>53.819178</td>\n",
       "      <td>1</td>\n",
       "      <td>157</td>\n",
       "      <td>80.0</td>\n",
       "      <td>150</td>\n",
       "      <td>90</td>\n",
       "      <td>3</td>\n",
       "      <td>1</td>\n",
       "      <td>0</td>\n",
       "      <td>0</td>\n",
       "      <td>1</td>\n",
       "      <td>1</td>\n",
       "      <td>32.455678</td>\n",
       "      <td>60</td>\n",
       "    </tr>\n",
       "    <tr>\n",
       "      <th>280</th>\n",
       "      <td>55.843836</td>\n",
       "      <td>1</td>\n",
       "      <td>152</td>\n",
       "      <td>72.0</td>\n",
       "      <td>160</td>\n",
       "      <td>90</td>\n",
       "      <td>3</td>\n",
       "      <td>1</td>\n",
       "      <td>0</td>\n",
       "      <td>0</td>\n",
       "      <td>1</td>\n",
       "      <td>1</td>\n",
       "      <td>31.163435</td>\n",
       "      <td>70</td>\n",
       "    </tr>\n",
       "    <tr>\n",
       "      <th>299</th>\n",
       "      <td>63.991781</td>\n",
       "      <td>2</td>\n",
       "      <td>173</td>\n",
       "      <td>85.0</td>\n",
       "      <td>140</td>\n",
       "      <td>80</td>\n",
       "      <td>3</td>\n",
       "      <td>1</td>\n",
       "      <td>0</td>\n",
       "      <td>0</td>\n",
       "      <td>1</td>\n",
       "      <td>1</td>\n",
       "      <td>28.400548</td>\n",
       "      <td>60</td>\n",
       "    </tr>\n",
       "    <tr>\n",
       "      <th>303</th>\n",
       "      <td>50.112329</td>\n",
       "      <td>2</td>\n",
       "      <td>171</td>\n",
       "      <td>74.0</td>\n",
       "      <td>150</td>\n",
       "      <td>80</td>\n",
       "      <td>3</td>\n",
       "      <td>3</td>\n",
       "      <td>1</td>\n",
       "      <td>0</td>\n",
       "      <td>1</td>\n",
       "      <td>1</td>\n",
       "      <td>25.306932</td>\n",
       "      <td>70</td>\n",
       "    </tr>\n",
       "    <tr>\n",
       "      <th>341</th>\n",
       "      <td>58.175342</td>\n",
       "      <td>2</td>\n",
       "      <td>182</td>\n",
       "      <td>91.0</td>\n",
       "      <td>160</td>\n",
       "      <td>90</td>\n",
       "      <td>3</td>\n",
       "      <td>1</td>\n",
       "      <td>0</td>\n",
       "      <td>0</td>\n",
       "      <td>1</td>\n",
       "      <td>1</td>\n",
       "      <td>27.472527</td>\n",
       "      <td>70</td>\n",
       "    </tr>\n",
       "    <tr>\n",
       "      <th>351</th>\n",
       "      <td>64.087671</td>\n",
       "      <td>1</td>\n",
       "      <td>153</td>\n",
       "      <td>69.0</td>\n",
       "      <td>140</td>\n",
       "      <td>80</td>\n",
       "      <td>3</td>\n",
       "      <td>3</td>\n",
       "      <td>0</td>\n",
       "      <td>0</td>\n",
       "      <td>1</td>\n",
       "      <td>1</td>\n",
       "      <td>29.475843</td>\n",
       "      <td>60</td>\n",
       "    </tr>\n",
       "    <tr>\n",
       "      <th>355</th>\n",
       "      <td>63.271233</td>\n",
       "      <td>1</td>\n",
       "      <td>158</td>\n",
       "      <td>73.0</td>\n",
       "      <td>180</td>\n",
       "      <td>100</td>\n",
       "      <td>3</td>\n",
       "      <td>1</td>\n",
       "      <td>0</td>\n",
       "      <td>0</td>\n",
       "      <td>1</td>\n",
       "      <td>1</td>\n",
       "      <td>29.242109</td>\n",
       "      <td>80</td>\n",
       "    </tr>\n",
       "    <tr>\n",
       "      <th>415</th>\n",
       "      <td>60.142466</td>\n",
       "      <td>2</td>\n",
       "      <td>170</td>\n",
       "      <td>78.0</td>\n",
       "      <td>150</td>\n",
       "      <td>80</td>\n",
       "      <td>3</td>\n",
       "      <td>1</td>\n",
       "      <td>0</td>\n",
       "      <td>0</td>\n",
       "      <td>1</td>\n",
       "      <td>1</td>\n",
       "      <td>26.989619</td>\n",
       "      <td>70</td>\n",
       "    </tr>\n",
       "  </tbody>\n",
       "</table>\n",
       "</div>"
      ],
      "text/plain": [
       "           age  gender  height  weight  systolic  diastolic  cholesterol  \\\n",
       "2    51.663014       1     165    64.0       130         70            3   \n",
       "24   45.501370       1     170    68.0       150         90            3   \n",
       "44   54.147945       1     154    50.0       170         80            3   \n",
       "61   57.424658       2     165    75.0       180         90            3   \n",
       "194  60.243836       1     162    62.0       140         80            3   \n",
       "221  48.194521       1     157    70.0       160        100            3   \n",
       "230  64.043836       2     175    75.0       180        100            3   \n",
       "275  53.819178       1     157    80.0       150         90            3   \n",
       "280  55.843836       1     152    72.0       160         90            3   \n",
       "299  63.991781       2     173    85.0       140         80            3   \n",
       "303  50.112329       2     171    74.0       150         80            3   \n",
       "341  58.175342       2     182    91.0       160         90            3   \n",
       "351  64.087671       1     153    69.0       140         80            3   \n",
       "355  63.271233       1     158    73.0       180        100            3   \n",
       "415  60.142466       2     170    78.0       150         80            3   \n",
       "\n",
       "     glucose  smoke  alcohol  active  cardiovascular disease        BMI  \\\n",
       "2          1      0        0       0                       1  23.507805   \n",
       "24         1      0        0       1                       1  23.529412   \n",
       "44         1      0        0       1                       1  21.082813   \n",
       "61         1      0        0       1                       1  27.548209   \n",
       "194        1      0        0       1                       1  23.624447   \n",
       "221        1      0        0       0                       1  28.398718   \n",
       "230        1      1        1       1                       1  24.489796   \n",
       "275        1      0        0       1                       1  32.455678   \n",
       "280        1      0        0       1                       1  31.163435   \n",
       "299        1      0        0       1                       1  28.400548   \n",
       "303        3      1        0       1                       1  25.306932   \n",
       "341        1      0        0       1                       1  27.472527   \n",
       "351        3      0        0       1                       1  29.475843   \n",
       "355        1      0        0       1                       1  29.242109   \n",
       "415        1      0        0       1                       1  26.989619   \n",
       "\n",
       "     pulse pressure  \n",
       "2                60  \n",
       "24               60  \n",
       "44               90  \n",
       "61               90  \n",
       "194              60  \n",
       "221              60  \n",
       "230              80  \n",
       "275              60  \n",
       "280              70  \n",
       "299              60  \n",
       "303              70  \n",
       "341              70  \n",
       "351              60  \n",
       "355              80  \n",
       "415              70  "
      ]
     },
     "execution_count": 37,
     "metadata": {},
     "output_type": "execute_result"
    }
   ],
   "source": [
    "df_train[(df_train['pulse pressure'] >= 60 ) & (df_train['cholesterol'] == 3)].head(15)"
   ]
  },
  {
   "cell_type": "markdown",
   "metadata": {},
   "source": [
    "Cursory glance at individuals who have both high pulse pressure (>=60) *and* well above normal cholesterol levels (3). <br>\n",
    "Upon inspection of the first several entries, having both high pulse pressure and well above normal cholesterol levels correlate to a higher likelihood of having cardiovascular disease."
   ]
  },
  {
   "cell_type": "code",
   "execution_count": 38,
   "metadata": {
    "execution": {
     "iopub.execute_input": "2023-02-08T06:40:32.770397Z",
     "iopub.status.busy": "2023-02-08T06:40:32.770102Z",
     "iopub.status.idle": "2023-02-08T06:40:33.013409Z",
     "shell.execute_reply": "2023-02-08T06:40:33.012361Z",
     "shell.execute_reply.started": "2023-02-08T06:40:32.770342Z"
    }
   },
   "outputs": [
    {
     "data": {
      "image/png": "[encoded data removed]",
      "text/plain": [
       "<Figure size 576x288 with 1 Axes>"
      ]
     },
     "metadata": {
      "needs_background": "light"
     },
     "output_type": "display_data"
    }
   ],
   "source": [
    "plt.figure(figsize=(8,4))\n",
    "sns.distplot(df_train['height'], kde=False)\n",
    "plt.show()"
   ]
  },
  {
   "cell_type": "code",
   "execution_count": 39,
   "metadata": {
    "execution": {
     "iopub.execute_input": "2023-02-08T06:40:33.015589Z",
     "iopub.status.busy": "2023-02-08T06:40:33.014902Z",
     "iopub.status.idle": "2023-02-08T06:40:33.871525Z",
     "shell.execute_reply": "2023-02-08T06:40:33.870713Z",
     "shell.execute_reply.started": "2023-02-08T06:40:33.015231Z"
    }
   },
   "outputs": [],
   "source": [
    "# Splitting data into training and testing datasets\n",
    "X = df_train.drop(['weight', 'height', 'cardiovascular disease'], axis=1)\n",
    "y = df_train['cardiovascular disease']\n",
    "\n",
    "from sklearn.model_selection import train_test_split\n",
    "X_train, X_test, y_train, y_test = train_test_split(X, y, test_size=0.3, random_state=17)"
   ]
  },
  {
   "cell_type": "code",
   "execution_count": 40,
   "metadata": {
    "execution": {
     "iopub.execute_input": "2023-02-08T06:40:33.873486Z",
     "iopub.status.busy": "2023-02-08T06:40:33.872932Z",
     "iopub.status.idle": "2023-02-08T06:40:33.905022Z",
     "shell.execute_reply": "2023-02-08T06:40:33.904340Z",
     "shell.execute_reply.started": "2023-02-08T06:40:33.873436Z"
    }
   },
   "outputs": [],
   "source": [
    "#Feature Scaling\n",
    "from sklearn.preprocessing import StandardScaler\n",
    "sc_X = StandardScaler()\n",
    "X_train = sc_X.fit_transform(X_train)\n",
    "X_test = sc_X.transform(X_test)"
   ]
  },
  {
   "cell_type": "code",
   "execution_count": 41,
   "metadata": {
    "execution": {
     "iopub.execute_input": "2023-02-08T06:40:33.910995Z",
     "iopub.status.busy": "2023-02-08T06:40:33.908979Z",
     "iopub.status.idle": "2023-02-08T06:40:33.919925Z",
     "shell.execute_reply": "2023-02-08T06:40:33.919069Z",
     "shell.execute_reply.started": "2023-02-08T06:40:33.910929Z"
    },
    "scrolled": true
   },
   "outputs": [
    {
     "data": {
      "text/plain": [
       "48983"
      ]
     },
     "execution_count": 41,
     "metadata": {},
     "output_type": "execute_result"
    }
   ],
   "source": [
    "len(X_train)"
   ]
  },
  {
   "cell_type": "code",
   "execution_count": 42,
   "metadata": {
    "execution": {
     "iopub.execute_input": "2023-02-08T06:40:33.927182Z",
     "iopub.status.busy": "2023-02-08T06:40:33.924798Z",
     "iopub.status.idle": "2023-02-08T06:40:33.935285Z",
     "shell.execute_reply": "2023-02-08T06:40:33.934548Z",
     "shell.execute_reply.started": "2023-02-08T06:40:33.925189Z"
    }
   },
   "outputs": [
    {
     "data": {
      "text/plain": [
       "48983"
      ]
     },
     "execution_count": 42,
     "metadata": {},
     "output_type": "execute_result"
    }
   ],
   "source": [
    "len(y_train)"
   ]
  },
  {
   "cell_type": "markdown",
   "metadata": {},
   "source": [
    "## Model Selection"
   ]
  },
  {
   "cell_type": "markdown",
   "metadata": {},
   "source": [
    "We will investigate different classification models and evaluate each to select the best performer.\n",
    "The models that will be evaluted are the following:\n",
    "- Random Forest\n",
    "- SVM\n",
    "- KNN\n",
    "- Naive Bayes\n",
    "- XGBoost"
   ]
  },
  {
   "cell_type": "markdown",
   "metadata": {},
   "source": [
    "**Random Forest Model Investigation**"
   ]
  },
  {
   "cell_type": "code",
   "execution_count": 43,
   "metadata": {
    "execution": {
     "iopub.execute_input": "2023-02-08T06:40:33.938240Z",
     "iopub.status.busy": "2023-02-08T06:40:33.936448Z",
     "iopub.status.idle": "2023-02-08T06:40:41.417781Z",
     "shell.execute_reply": "2023-02-08T06:40:41.416155Z",
     "shell.execute_reply.started": "2023-02-08T06:40:33.938175Z"
    }
   },
   "outputs": [
    {
     "data": {
      "text/plain": [
       "RandomForestClassifier(bootstrap=True, class_weight=None, criterion='gini',\n",
       "                       max_depth=None, max_features='auto', max_leaf_nodes=None,\n",
       "                       min_impurity_decrease=0.0, min_impurity_split=None,\n",
       "                       min_samples_leaf=1, min_samples_split=2,\n",
       "                       min_weight_fraction_leaf=0.0, n_estimators=100,\n",
       "                       n_jobs=None, oob_score=False, random_state=None,\n",
       "                       verbose=0, warm_start=False)"
      ]
     },
     "execution_count": 43,
     "metadata": {},
     "output_type": "execute_result"
    }
   ],
   "source": [
    "# Random Forest\n",
    "from sklearn.ensemble import RandomForestClassifier\n",
    "rfc = RandomForestClassifier(n_estimators=100)\n",
    "rfc.fit(X_train, y_train)"
   ]
  },
  {
   "cell_type": "code",
   "execution_count": 44,
   "metadata": {
    "execution": {
     "iopub.execute_input": "2023-02-08T06:40:41.419331Z",
     "iopub.status.busy": "2023-02-08T06:40:41.419038Z",
     "iopub.status.idle": "2023-02-08T06:40:42.009369Z",
     "shell.execute_reply": "2023-02-08T06:40:42.008537Z",
     "shell.execute_reply.started": "2023-02-08T06:40:41.419277Z"
    }
   },
   "outputs": [],
   "source": [
    "y_pred_rfc = rfc.predict(X_test)"
   ]
  },
  {
   "cell_type": "code",
   "execution_count": 45,
   "metadata": {
    "execution": {
     "iopub.execute_input": "2023-02-08T06:40:42.011012Z",
     "iopub.status.busy": "2023-02-08T06:40:42.010740Z",
     "iopub.status.idle": "2023-02-08T06:40:42.066501Z",
     "shell.execute_reply": "2023-02-08T06:40:42.065603Z",
     "shell.execute_reply.started": "2023-02-08T06:40:42.010968Z"
    },
    "scrolled": true
   },
   "outputs": [
    {
     "name": "stdout",
     "output_type": "stream",
     "text": [
      "[[7687 2815]\n",
      " [3316 7175]]\n",
      "              precision    recall  f1-score   support\n",
      "\n",
      "           0       0.70      0.73      0.71     10502\n",
      "           1       0.72      0.68      0.70     10491\n",
      "\n",
      "    accuracy                           0.71     20993\n",
      "   macro avg       0.71      0.71      0.71     20993\n",
      "weighted avg       0.71      0.71      0.71     20993\n",
      "\n"
     ]
    }
   ],
   "source": [
    "# Random Forest Model Evaluation\n",
    "from sklearn.metrics import confusion_matrix, classification_report\n",
    "print(confusion_matrix(y_test, y_pred_rfc))\n",
    "print(classification_report(y_test, y_pred_rfc))"
   ]
  },
  {
   "cell_type": "code",
   "execution_count": 46,
   "metadata": {
    "execution": {
     "iopub.execute_input": "2023-02-08T06:40:42.068460Z",
     "iopub.status.busy": "2023-02-08T06:40:42.068021Z",
     "iopub.status.idle": "2023-02-08T06:40:42.664133Z",
     "shell.execute_reply": "2023-02-08T06:40:42.663093Z",
     "shell.execute_reply.started": "2023-02-08T06:40:42.068277Z"
    }
   },
   "outputs": [
    {
     "data": {
      "text/plain": [
       "0.7079502691373315"
      ]
     },
     "execution_count": 46,
     "metadata": {},
     "output_type": "execute_result"
    }
   ],
   "source": [
    "rfc.score(X_test, y_test)"
   ]
  },
  {
   "cell_type": "markdown",
   "metadata": {},
   "source": [
    "**K-Fold cross-valuidation of Random Forest Model**"
   ]
  },
  {
   "cell_type": "code",
   "execution_count": 47,
   "metadata": {
    "execution": {
     "iopub.execute_input": "2023-02-08T06:40:42.666109Z",
     "iopub.status.busy": "2023-02-08T06:40:42.665655Z",
     "iopub.status.idle": "2023-02-08T06:41:49.757475Z",
     "shell.execute_reply": "2023-02-08T06:41:49.756714Z",
     "shell.execute_reply.started": "2023-02-08T06:40:42.665924Z"
    }
   },
   "outputs": [],
   "source": [
    "#Applying k-Fold Cross Validation\n",
    "from sklearn.model_selection import cross_val_score\n",
    "accuracies_rfc = cross_val_score(estimator=rfc, X=X_train, y=y_train, cv=10)"
   ]
  },
  {
   "cell_type": "code",
   "execution_count": 48,
   "metadata": {
    "execution": {
     "iopub.execute_input": "2023-02-08T06:41:49.759084Z",
     "iopub.status.busy": "2023-02-08T06:41:49.758804Z",
     "iopub.status.idle": "2023-02-08T06:41:49.768297Z",
     "shell.execute_reply": "2023-02-08T06:41:49.767663Z",
     "shell.execute_reply.started": "2023-02-08T06:41:49.759039Z"
    }
   },
   "outputs": [
    {
     "data": {
      "text/plain": [
       "array([0.69693878, 0.70851194, 0.69967334, 0.69967334, 0.70886076,\n",
       "       0.70641078, 0.70273581, 0.71171907, 0.7115149 , 0.70906492])"
      ]
     },
     "execution_count": 48,
     "metadata": {},
     "output_type": "execute_result"
    }
   ],
   "source": [
    "accuracies_rfc"
   ]
  },
  {
   "cell_type": "code",
   "execution_count": 49,
   "metadata": {
    "execution": {
     "iopub.execute_input": "2023-02-08T06:41:49.770196Z",
     "iopub.status.busy": "2023-02-08T06:41:49.769828Z",
     "iopub.status.idle": "2023-02-08T06:41:49.779620Z",
     "shell.execute_reply": "2023-02-08T06:41:49.778587Z",
     "shell.execute_reply.started": "2023-02-08T06:41:49.770134Z"
    }
   },
   "outputs": [
    {
     "data": {
      "text/plain": [
       "0.70551036362817"
      ]
     },
     "execution_count": 49,
     "metadata": {},
     "output_type": "execute_result"
    }
   ],
   "source": [
    "accuracies_rfc.mean()"
   ]
  },
  {
   "cell_type": "code",
   "execution_count": 50,
   "metadata": {
    "execution": {
     "iopub.execute_input": "2023-02-08T06:41:49.781446Z",
     "iopub.status.busy": "2023-02-08T06:41:49.780924Z",
     "iopub.status.idle": "2023-02-08T06:41:49.797752Z",
     "shell.execute_reply": "2023-02-08T06:41:49.796925Z",
     "shell.execute_reply.started": "2023-02-08T06:41:49.781156Z"
    }
   },
   "outputs": [
    {
     "data": {
      "text/plain": [
       "0.005075380283360298"
      ]
     },
     "execution_count": 50,
     "metadata": {},
     "output_type": "execute_result"
    }
   ],
   "source": [
    "accuracies_rfc.std()"
   ]
  },
  {
   "cell_type": "markdown",
   "metadata": {},
   "source": [
    "**SVM Model Investigation**"
   ]
  },
  {
   "cell_type": "code",
   "execution_count": 51,
   "metadata": {
    "execution": {
     "iopub.execute_input": "2023-02-08T06:41:49.799480Z",
     "iopub.status.busy": "2023-02-08T06:41:49.799010Z",
     "iopub.status.idle": "2023-02-08T06:43:31.488942Z",
     "shell.execute_reply": "2023-02-08T06:43:31.488268Z",
     "shell.execute_reply.started": "2023-02-08T06:41:49.799431Z"
    }
   },
   "outputs": [
    {
     "data": {
      "text/plain": [
       "SVC(C=1.0, cache_size=200, class_weight=None, coef0=0.0,\n",
       "    decision_function_shape='ovr', degree=3, gamma='auto', kernel='rbf',\n",
       "    max_iter=-1, probability=False, random_state=None, shrinking=True,\n",
       "    tol=0.001, verbose=False)"
      ]
     },
     "execution_count": 51,
     "metadata": {},
     "output_type": "execute_result"
    }
   ],
   "source": [
    "# SVM\n",
    "from sklearn.svm import SVC\n",
    "svc = SVC(gamma='auto')\n",
    "svc.fit(X_train, y_train)"
   ]
  },
  {
   "cell_type": "code",
   "execution_count": 52,
   "metadata": {
    "execution": {
     "iopub.execute_input": "2023-02-08T06:43:31.490507Z",
     "iopub.status.busy": "2023-02-08T06:43:31.490185Z",
     "iopub.status.idle": "2023-02-08T06:43:55.589292Z",
     "shell.execute_reply": "2023-02-08T06:43:55.588462Z",
     "shell.execute_reply.started": "2023-02-08T06:43:31.490444Z"
    }
   },
   "outputs": [],
   "source": [
    "y_pred_svc = svc.predict(X_test)"
   ]
  },
  {
   "cell_type": "code",
   "execution_count": 53,
   "metadata": {
    "execution": {
     "iopub.execute_input": "2023-02-08T06:43:55.590841Z",
     "iopub.status.busy": "2023-02-08T06:43:55.590564Z",
     "iopub.status.idle": "2023-02-08T06:43:55.645107Z",
     "shell.execute_reply": "2023-02-08T06:43:55.644161Z",
     "shell.execute_reply.started": "2023-02-08T06:43:55.590797Z"
    }
   },
   "outputs": [
    {
     "name": "stdout",
     "output_type": "stream",
     "text": [
      "[[8096 2406]\n",
      " [3375 7116]]\n",
      "              precision    recall  f1-score   support\n",
      "\n",
      "           0       0.71      0.77      0.74     10502\n",
      "           1       0.75      0.68      0.71     10491\n",
      "\n",
      "    accuracy                           0.72     20993\n",
      "   macro avg       0.73      0.72      0.72     20993\n",
      "weighted avg       0.73      0.72      0.72     20993\n",
      "\n"
     ]
    }
   ],
   "source": [
    "# SVM Model Evaluation\n",
    "print(confusion_matrix(y_test, y_pred_svc))\n",
    "print(classification_report(y_test, y_pred_svc))"
   ]
  },
  {
   "cell_type": "code",
   "execution_count": 54,
   "metadata": {
    "execution": {
     "iopub.execute_input": "2023-02-08T06:43:55.647058Z",
     "iopub.status.busy": "2023-02-08T06:43:55.646633Z",
     "iopub.status.idle": "2023-02-08T06:44:19.636170Z",
     "shell.execute_reply": "2023-02-08T06:44:19.635367Z",
     "shell.execute_reply.started": "2023-02-08T06:43:55.646878Z"
    }
   },
   "outputs": [
    {
     "data": {
      "text/plain": [
       "0.7246224932120231"
      ]
     },
     "execution_count": 54,
     "metadata": {},
     "output_type": "execute_result"
    }
   ],
   "source": [
    "svc.score(X_test, y_test)"
   ]
  },
  {
   "cell_type": "markdown",
   "metadata": {},
   "source": [
    "**K-Fold cross-valuidation of SVM model**"
   ]
  },
  {
   "cell_type": "code",
   "execution_count": 55,
   "metadata": {
    "execution": {
     "iopub.execute_input": "2023-02-08T06:44:19.637785Z",
     "iopub.status.busy": "2023-02-08T06:44:19.637497Z",
     "iopub.status.idle": "2023-02-08T06:55:09.928348Z",
     "shell.execute_reply": "2023-02-08T06:55:09.927272Z",
     "shell.execute_reply.started": "2023-02-08T06:44:19.637736Z"
    }
   },
   "outputs": [],
   "source": [
    "#Applying k-Fold Cross Validation\n",
    "accuracies_svc = cross_val_score(estimator=svc, X=X_train, y=y_train, cv=10, n_jobs=4)"
   ]
  },
  {
   "cell_type": "code",
   "execution_count": 56,
   "metadata": {
    "execution": {
     "iopub.execute_input": "2023-02-08T06:55:09.931054Z",
     "iopub.status.busy": "2023-02-08T06:55:09.930581Z",
     "iopub.status.idle": "2023-02-08T06:55:09.937997Z",
     "shell.execute_reply": "2023-02-08T06:55:09.937279Z",
     "shell.execute_reply.started": "2023-02-08T06:55:09.931002Z"
    },
    "scrolled": true
   },
   "outputs": [
    {
     "data": {
      "text/plain": [
       "array([0.71571429, 0.72872015, 0.72703144, 0.7155982 , 0.73846468,\n",
       "       0.73417722, 0.73029808, 0.72315231, 0.72498979, 0.73233973])"
      ]
     },
     "execution_count": 56,
     "metadata": {},
     "output_type": "execute_result"
    }
   ],
   "source": [
    "accuracies_svc"
   ]
  },
  {
   "cell_type": "code",
   "execution_count": 57,
   "metadata": {
    "execution": {
     "iopub.execute_input": "2023-02-08T06:55:09.939921Z",
     "iopub.status.busy": "2023-02-08T06:55:09.939391Z",
     "iopub.status.idle": "2023-02-08T06:55:09.950119Z",
     "shell.execute_reply": "2023-02-08T06:55:09.949111Z",
     "shell.execute_reply.started": "2023-02-08T06:55:09.939681Z"
    }
   },
   "outputs": [
    {
     "data": {
      "text/plain": [
       "0.7270485882254308"
      ]
     },
     "execution_count": 57,
     "metadata": {},
     "output_type": "execute_result"
    }
   ],
   "source": [
    "accuracies_svc.mean()"
   ]
  },
  {
   "cell_type": "code",
   "execution_count": 58,
   "metadata": {
    "execution": {
     "iopub.execute_input": "2023-02-08T06:55:09.951933Z",
     "iopub.status.busy": "2023-02-08T06:55:09.951479Z",
     "iopub.status.idle": "2023-02-08T06:55:09.967157Z",
     "shell.execute_reply": "2023-02-08T06:55:09.966608Z",
     "shell.execute_reply.started": "2023-02-08T06:55:09.951726Z"
    },
    "scrolled": true
   },
   "outputs": [
    {
     "data": {
      "text/plain": [
       "0.007081607374783597"
      ]
     },
     "execution_count": 58,
     "metadata": {},
     "output_type": "execute_result"
    }
   ],
   "source": [
    "accuracies_svc.std()"
   ]
  },
  {
   "cell_type": "markdown",
   "metadata": {},
   "source": [
    "**K-Nearest Neighbor Model Investigation**"
   ]
  },
  {
   "cell_type": "code",
   "execution_count": 59,
   "metadata": {
    "execution": {
     "iopub.execute_input": "2023-02-08T06:55:09.970770Z",
     "iopub.status.busy": "2023-02-08T06:55:09.970536Z",
     "iopub.status.idle": "2023-02-08T06:55:11.078859Z",
     "shell.execute_reply": "2023-02-08T06:55:11.078039Z",
     "shell.execute_reply.started": "2023-02-08T06:55:09.970726Z"
    }
   },
   "outputs": [
    {
     "data": {
      "text/plain": [
       "KNeighborsClassifier(algorithm='auto', leaf_size=30, metric='minkowski',\n",
       "                     metric_params=None, n_jobs=None, n_neighbors=100, p=2,\n",
       "                     weights='uniform')"
      ]
     },
     "execution_count": 59,
     "metadata": {},
     "output_type": "execute_result"
    }
   ],
   "source": [
    "# KNN\n",
    "from sklearn.neighbors import KNeighborsClassifier\n",
    "knn = KNeighborsClassifier(n_neighbors=100)\n",
    "knn.fit(X_train, y_train)"
   ]
  },
  {
   "cell_type": "code",
   "execution_count": 60,
   "metadata": {
    "execution": {
     "iopub.execute_input": "2023-02-08T06:55:11.082318Z",
     "iopub.status.busy": "2023-02-08T06:55:11.082038Z",
     "iopub.status.idle": "2023-02-08T06:55:20.846774Z",
     "shell.execute_reply": "2023-02-08T06:55:20.845939Z",
     "shell.execute_reply.started": "2023-02-08T06:55:11.082267Z"
    }
   },
   "outputs": [],
   "source": [
    "y_pred_knn = knn.predict(X_test)"
   ]
  },
  {
   "cell_type": "code",
   "execution_count": 61,
   "metadata": {
    "execution": {
     "iopub.execute_input": "2023-02-08T06:55:20.848571Z",
     "iopub.status.busy": "2023-02-08T06:55:20.848254Z",
     "iopub.status.idle": "2023-02-08T06:55:20.903248Z",
     "shell.execute_reply": "2023-02-08T06:55:20.902209Z",
     "shell.execute_reply.started": "2023-02-08T06:55:20.848523Z"
    }
   },
   "outputs": [
    {
     "name": "stdout",
     "output_type": "stream",
     "text": [
      "[[7689 2813]\n",
      " [3860 6631]]\n",
      "              precision    recall  f1-score   support\n",
      "\n",
      "           0       0.67      0.73      0.70     10502\n",
      "           1       0.70      0.63      0.67     10491\n",
      "\n",
      "    accuracy                           0.68     20993\n",
      "   macro avg       0.68      0.68      0.68     20993\n",
      "weighted avg       0.68      0.68      0.68     20993\n",
      "\n"
     ]
    }
   ],
   "source": [
    "# KNN Model Evaluation\n",
    "print(confusion_matrix(y_test, y_pred_knn))\n",
    "print(classification_report(y_test, y_pred_knn))"
   ]
  },
  {
   "cell_type": "code",
   "execution_count": 62,
   "metadata": {
    "execution": {
     "iopub.execute_input": "2023-02-08T06:55:20.905260Z",
     "iopub.status.busy": "2023-02-08T06:55:20.904758Z",
     "iopub.status.idle": "2023-02-08T06:55:30.062029Z",
     "shell.execute_reply": "2023-02-08T06:55:30.061369Z",
     "shell.execute_reply.started": "2023-02-08T06:55:20.905028Z"
    }
   },
   "outputs": [
    {
     "data": {
      "text/plain": [
       "0.6821321392845234"
      ]
     },
     "execution_count": 62,
     "metadata": {},
     "output_type": "execute_result"
    }
   ],
   "source": [
    "knn.score(X_test, y_test)"
   ]
  },
  {
   "cell_type": "markdown",
   "metadata": {},
   "source": [
    "**K-Fold cross-valuidation of KNN model**"
   ]
  },
  {
   "cell_type": "code",
   "execution_count": 63,
   "metadata": {
    "execution": {
     "iopub.execute_input": "2023-02-08T06:55:30.063745Z",
     "iopub.status.busy": "2023-02-08T06:55:30.063457Z",
     "iopub.status.idle": "2023-02-08T06:55:59.801966Z",
     "shell.execute_reply": "2023-02-08T06:55:59.801027Z",
     "shell.execute_reply.started": "2023-02-08T06:55:30.063700Z"
    }
   },
   "outputs": [],
   "source": [
    "#Applying k-Fold Cross Validation\n",
    "accuracies_knn = cross_val_score(estimator=knn, X=X_train, y=y_train, cv=10)"
   ]
  },
  {
   "cell_type": "code",
   "execution_count": 64,
   "metadata": {
    "execution": {
     "iopub.execute_input": "2023-02-08T06:55:59.803767Z",
     "iopub.status.busy": "2023-02-08T06:55:59.803437Z",
     "iopub.status.idle": "2023-02-08T06:55:59.811909Z",
     "shell.execute_reply": "2023-02-08T06:55:59.810962Z",
     "shell.execute_reply.started": "2023-02-08T06:55:59.803718Z"
    }
   },
   "outputs": [
    {
     "data": {
      "text/plain": [
       "array([0.6655102 , 0.66932027, 0.67558187, 0.67741935, 0.69150674,\n",
       "       0.6725194 , 0.67660269, 0.67006942, 0.67211107, 0.67660269])"
      ]
     },
     "execution_count": 64,
     "metadata": {},
     "output_type": "execute_result"
    }
   ],
   "source": [
    "accuracies_knn"
   ]
  },
  {
   "cell_type": "code",
   "execution_count": 65,
   "metadata": {
    "execution": {
     "iopub.execute_input": "2023-02-08T06:55:59.813927Z",
     "iopub.status.busy": "2023-02-08T06:55:59.813416Z",
     "iopub.status.idle": "2023-02-08T06:55:59.826250Z",
     "shell.execute_reply": "2023-02-08T06:55:59.825491Z",
     "shell.execute_reply.started": "2023-02-08T06:55:59.813871Z"
    }
   },
   "outputs": [
    {
     "data": {
      "text/plain": [
       "0.6747243703414126"
      ]
     },
     "execution_count": 65,
     "metadata": {},
     "output_type": "execute_result"
    }
   ],
   "source": [
    "accuracies_knn.mean()"
   ]
  },
  {
   "cell_type": "code",
   "execution_count": 66,
   "metadata": {
    "execution": {
     "iopub.execute_input": "2023-02-08T06:55:59.828356Z",
     "iopub.status.busy": "2023-02-08T06:55:59.827890Z",
     "iopub.status.idle": "2023-02-08T06:55:59.837487Z",
     "shell.execute_reply": "2023-02-08T06:55:59.836783Z",
     "shell.execute_reply.started": "2023-02-08T06:55:59.828154Z"
    },
    "scrolled": true
   },
   "outputs": [
    {
     "data": {
      "text/plain": [
       "0.0066645880556574204"
      ]
     },
     "execution_count": 66,
     "metadata": {},
     "output_type": "execute_result"
    }
   ],
   "source": [
    "accuracies_knn.std()"
   ]
  },
  {
   "cell_type": "markdown",
   "metadata": {},
   "source": [
    "**Naive Bayes Model Investigation**"
   ]
  },
  {
   "cell_type": "code",
   "execution_count": 67,
   "metadata": {
    "execution": {
     "iopub.execute_input": "2023-02-08T06:55:59.839297Z",
     "iopub.status.busy": "2023-02-08T06:55:59.838821Z",
     "iopub.status.idle": "2023-02-08T06:55:59.866984Z",
     "shell.execute_reply": "2023-02-08T06:55:59.865334Z",
     "shell.execute_reply.started": "2023-02-08T06:55:59.839247Z"
    }
   },
   "outputs": [
    {
     "data": {
      "text/plain": [
       "GaussianNB(priors=None, var_smoothing=1e-09)"
      ]
     },
     "execution_count": 67,
     "metadata": {},
     "output_type": "execute_result"
    }
   ],
   "source": [
    "# Naive Bayes\n",
    "from sklearn.naive_bayes import GaussianNB\n",
    "nbc = GaussianNB()\n",
    "nbc.fit(X_train, y_train)"
   ]
  },
  {
   "cell_type": "code",
   "execution_count": 68,
   "metadata": {
    "execution": {
     "iopub.execute_input": "2023-02-08T06:55:59.868792Z",
     "iopub.status.busy": "2023-02-08T06:55:59.868327Z",
     "iopub.status.idle": "2023-02-08T06:55:59.880320Z",
     "shell.execute_reply": "2023-02-08T06:55:59.879607Z",
     "shell.execute_reply.started": "2023-02-08T06:55:59.868611Z"
    }
   },
   "outputs": [],
   "source": [
    "y_pred_nbc = nbc.predict(X_test)"
   ]
  },
  {
   "cell_type": "code",
   "execution_count": 69,
   "metadata": {
    "execution": {
     "iopub.execute_input": "2023-02-08T06:55:59.882543Z",
     "iopub.status.busy": "2023-02-08T06:55:59.882062Z",
     "iopub.status.idle": "2023-02-08T06:55:59.944267Z",
     "shell.execute_reply": "2023-02-08T06:55:59.943166Z",
     "shell.execute_reply.started": "2023-02-08T06:55:59.882373Z"
    },
    "scrolled": true
   },
   "outputs": [
    {
     "name": "stdout",
     "output_type": "stream",
     "text": [
      "[[9461 1041]\n",
      " [7684 2807]]\n",
      "              precision    recall  f1-score   support\n",
      "\n",
      "           0       0.55      0.90      0.68     10502\n",
      "           1       0.73      0.27      0.39     10491\n",
      "\n",
      "    accuracy                           0.58     20993\n",
      "   macro avg       0.64      0.58      0.54     20993\n",
      "weighted avg       0.64      0.58      0.54     20993\n",
      "\n"
     ]
    }
   ],
   "source": [
    "# Naive Bayes Model Evaluation\n",
    "print(confusion_matrix(y_test, y_pred_nbc))\n",
    "print(classification_report(y_test, y_pred_nbc))"
   ]
  },
  {
   "cell_type": "code",
   "execution_count": 70,
   "metadata": {
    "execution": {
     "iopub.execute_input": "2023-02-08T06:55:59.945965Z",
     "iopub.status.busy": "2023-02-08T06:55:59.945514Z",
     "iopub.status.idle": "2023-02-08T06:55:59.957475Z",
     "shell.execute_reply": "2023-02-08T06:55:59.956301Z",
     "shell.execute_reply.started": "2023-02-08T06:55:59.945917Z"
    }
   },
   "outputs": [
    {
     "data": {
      "text/plain": [
       "0.5843852712809031"
      ]
     },
     "execution_count": 70,
     "metadata": {},
     "output_type": "execute_result"
    }
   ],
   "source": [
    "nbc.score(X_test, y_test)"
   ]
  },
  {
   "cell_type": "markdown",
   "metadata": {},
   "source": [
    "**K-Fold cross-valuidation of Naive Bayes model**"
   ]
  },
  {
   "cell_type": "code",
   "execution_count": 71,
   "metadata": {
    "execution": {
     "iopub.execute_input": "2023-02-08T06:55:59.959678Z",
     "iopub.status.busy": "2023-02-08T06:55:59.959164Z",
     "iopub.status.idle": "2023-02-08T06:56:00.137122Z",
     "shell.execute_reply": "2023-02-08T06:56:00.136430Z",
     "shell.execute_reply.started": "2023-02-08T06:55:59.959485Z"
    }
   },
   "outputs": [],
   "source": [
    "#Applying k-Fold Cross Validation\n",
    "accuracies_nbc = cross_val_score(estimator=nbc, X=X_train, y=y_train, cv=10)"
   ]
  },
  {
   "cell_type": "code",
   "execution_count": 72,
   "metadata": {
    "execution": {
     "iopub.execute_input": "2023-02-08T06:56:00.139229Z",
     "iopub.status.busy": "2023-02-08T06:56:00.138777Z",
     "iopub.status.idle": "2023-02-08T06:56:00.145134Z",
     "shell.execute_reply": "2023-02-08T06:56:00.144437Z",
     "shell.execute_reply.started": "2023-02-08T06:56:00.139045Z"
    }
   },
   "outputs": [
    {
     "data": {
      "text/plain": [
       "array([0.57489796, 0.58848745, 0.58084933, 0.57594937, 0.600245  ,\n",
       "       0.58942425, 0.58983258, 0.58146182, 0.58493263, 0.5763577 ])"
      ]
     },
     "execution_count": 72,
     "metadata": {},
     "output_type": "execute_result"
    }
   ],
   "source": [
    "accuracies_nbc"
   ]
  },
  {
   "cell_type": "code",
   "execution_count": 73,
   "metadata": {
    "execution": {
     "iopub.execute_input": "2023-02-08T06:56:00.146802Z",
     "iopub.status.busy": "2023-02-08T06:56:00.146372Z",
     "iopub.status.idle": "2023-02-08T06:56:00.159881Z",
     "shell.execute_reply": "2023-02-08T06:56:00.159169Z",
     "shell.execute_reply.started": "2023-02-08T06:56:00.146754Z"
    }
   },
   "outputs": [
    {
     "data": {
      "text/plain": [
       "0.5842438080162355"
      ]
     },
     "execution_count": 73,
     "metadata": {},
     "output_type": "execute_result"
    }
   ],
   "source": [
    "accuracies_nbc.mean()"
   ]
  },
  {
   "cell_type": "code",
   "execution_count": 74,
   "metadata": {
    "execution": {
     "iopub.execute_input": "2023-02-08T06:56:00.163051Z",
     "iopub.status.busy": "2023-02-08T06:56:00.162787Z",
     "iopub.status.idle": "2023-02-08T06:56:00.171992Z",
     "shell.execute_reply": "2023-02-08T06:56:00.171087Z",
     "shell.execute_reply.started": "2023-02-08T06:56:00.162996Z"
    },
    "scrolled": true
   },
   "outputs": [
    {
     "data": {
      "text/plain": [
       "0.007551078166408553"
      ]
     },
     "execution_count": 74,
     "metadata": {},
     "output_type": "execute_result"
    }
   ],
   "source": [
    "accuracies_nbc.std()"
   ]
  },
  {
   "cell_type": "markdown",
   "metadata": {},
   "source": [
    "**XGBoost Model Investigation**"
   ]
  },
  {
   "cell_type": "code",
   "execution_count": 75,
   "metadata": {
    "execution": {
     "iopub.execute_input": "2023-02-08T06:56:00.174272Z",
     "iopub.status.busy": "2023-02-08T06:56:00.173446Z",
     "iopub.status.idle": "2023-02-08T06:56:13.817149Z",
     "shell.execute_reply": "2023-02-08T06:56:13.816354Z",
     "shell.execute_reply.started": "2023-02-08T06:56:00.173645Z"
    }
   },
   "outputs": [
    {
     "data": {
      "text/plain": [
       "XGBClassifier(base_score=0.5, booster='gbtree', colsample_bylevel=1,\n",
       "              colsample_bynode=1, colsample_bytree=1, gamma=0,\n",
       "              learning_rate=0.02, max_delta_step=0, max_depth=3,\n",
       "              min_child_weight=1, missing=None, n_estimators=600, n_jobs=1,\n",
       "              nthread=None, objective='binary:logistic', random_state=0,\n",
       "              reg_alpha=0, reg_lambda=1, scale_pos_weight=1, seed=None,\n",
       "              silent=None, subsample=1, verbosity=1)"
      ]
     },
     "execution_count": 75,
     "metadata": {},
     "output_type": "execute_result"
    }
   ],
   "source": [
    "# XGBoost Model\n",
    "from xgboost import XGBClassifier\n",
    "xgb = XGBClassifier(learning_rate=0.02, n_estimators=600)\n",
    "xgb.fit(X_train, y_train)"
   ]
  },
  {
   "cell_type": "code",
   "execution_count": 76,
   "metadata": {
    "execution": {
     "iopub.execute_input": "2023-02-08T06:56:13.818818Z",
     "iopub.status.busy": "2023-02-08T06:56:13.818528Z",
     "iopub.status.idle": "2023-02-08T06:56:14.163683Z",
     "shell.execute_reply": "2023-02-08T06:56:14.162645Z",
     "shell.execute_reply.started": "2023-02-08T06:56:13.818772Z"
    }
   },
   "outputs": [],
   "source": [
    "y_pred_xgb = xgb.predict(X_test)"
   ]
  },
  {
   "cell_type": "code",
   "execution_count": 77,
   "metadata": {
    "execution": {
     "iopub.execute_input": "2023-02-08T06:56:14.165509Z",
     "iopub.status.busy": "2023-02-08T06:56:14.165197Z",
     "iopub.status.idle": "2023-02-08T06:56:14.219349Z",
     "shell.execute_reply": "2023-02-08T06:56:14.218445Z",
     "shell.execute_reply.started": "2023-02-08T06:56:14.165454Z"
    }
   },
   "outputs": [
    {
     "name": "stdout",
     "output_type": "stream",
     "text": [
      "[[8203 2299]\n",
      " [3264 7227]]\n",
      "              precision    recall  f1-score   support\n",
      "\n",
      "           0       0.72      0.78      0.75     10502\n",
      "           1       0.76      0.69      0.72     10491\n",
      "\n",
      "    accuracy                           0.74     20993\n",
      "   macro avg       0.74      0.73      0.73     20993\n",
      "weighted avg       0.74      0.74      0.73     20993\n",
      "\n"
     ]
    }
   ],
   "source": [
    "# XGBoost Model Evaluation\n",
    "print(confusion_matrix(y_test, y_pred_xgb))\n",
    "print(classification_report(y_test, y_pred_xgb))"
   ]
  },
  {
   "cell_type": "code",
   "execution_count": 78,
   "metadata": {
    "execution": {
     "iopub.execute_input": "2023-02-08T06:56:14.221426Z",
     "iopub.status.busy": "2023-02-08T06:56:14.220917Z",
     "iopub.status.idle": "2023-02-08T06:56:14.568082Z",
     "shell.execute_reply": "2023-02-08T06:56:14.567094Z",
     "shell.execute_reply.started": "2023-02-08T06:56:14.221156Z"
    }
   },
   "outputs": [
    {
     "data": {
      "text/plain": [
       "0.7350069070642595"
      ]
     },
     "execution_count": 78,
     "metadata": {},
     "output_type": "execute_result"
    }
   ],
   "source": [
    "xgb.score(X_test, y_test)"
   ]
  },
  {
   "cell_type": "markdown",
   "metadata": {},
   "source": [
    "**K-Fold cross-valuidation of XGBoost model**"
   ]
  },
  {
   "cell_type": "code",
   "execution_count": 79,
   "metadata": {
    "execution": {
     "iopub.execute_input": "2023-02-08T06:56:14.569860Z",
     "iopub.status.busy": "2023-02-08T06:56:14.569549Z",
     "iopub.status.idle": "2023-02-08T06:58:13.429622Z",
     "shell.execute_reply": "2023-02-08T06:58:13.428768Z",
     "shell.execute_reply.started": "2023-02-08T06:56:14.569796Z"
    }
   },
   "outputs": [],
   "source": [
    "#Applying k-Fold Cross Validation\n",
    "accuracies_xgb = cross_val_score(estimator=xgb, X=X_train, y=y_train, cv=10)"
   ]
  },
  {
   "cell_type": "code",
   "execution_count": 80,
   "metadata": {
    "execution": {
     "iopub.execute_input": "2023-02-08T06:58:13.431336Z",
     "iopub.status.busy": "2023-02-08T06:58:13.431037Z",
     "iopub.status.idle": "2023-02-08T06:58:13.438872Z",
     "shell.execute_reply": "2023-02-08T06:58:13.438164Z",
     "shell.execute_reply.started": "2023-02-08T06:58:13.431292Z"
    }
   },
   "outputs": [
    {
     "data": {
      "text/plain": [
       "array([0.72897959, 0.73831394, 0.73519804, 0.72968559, 0.74867293,\n",
       "       0.74030216, 0.7394855 , 0.73846468, 0.73662719, 0.7360147 ])"
      ]
     },
     "execution_count": 80,
     "metadata": {},
     "output_type": "execute_result"
    }
   ],
   "source": [
    "accuracies_xgb"
   ]
  },
  {
   "cell_type": "code",
   "execution_count": 81,
   "metadata": {
    "execution": {
     "iopub.execute_input": "2023-02-08T06:58:13.440954Z",
     "iopub.status.busy": "2023-02-08T06:58:13.440371Z",
     "iopub.status.idle": "2023-02-08T06:58:13.450005Z",
     "shell.execute_reply": "2023-02-08T06:58:13.449058Z",
     "shell.execute_reply.started": "2023-02-08T06:58:13.440904Z"
    }
   },
   "outputs": [
    {
     "data": {
      "text/plain": [
       "0.7371744329700837"
      ]
     },
     "execution_count": 81,
     "metadata": {},
     "output_type": "execute_result"
    }
   ],
   "source": [
    "accuracies_xgb.mean()"
   ]
  },
  {
   "cell_type": "code",
   "execution_count": 82,
   "metadata": {
    "execution": {
     "iopub.execute_input": "2023-02-08T06:58:13.452074Z",
     "iopub.status.busy": "2023-02-08T06:58:13.451599Z",
     "iopub.status.idle": "2023-02-08T06:58:13.463251Z",
     "shell.execute_reply": "2023-02-08T06:58:13.462336Z",
     "shell.execute_reply.started": "2023-02-08T06:58:13.451902Z"
    },
    "scrolled": true
   },
   "outputs": [
    {
     "data": {
      "text/plain": [
       "0.0052829081102285964"
      ]
     },
     "execution_count": 82,
     "metadata": {},
     "output_type": "execute_result"
    }
   ],
   "source": [
    "accuracies_xgb.std()"
   ]
  },
  {
   "cell_type": "markdown",
   "metadata": {},
   "source": [
    "## Conclusion"
   ]
  },
  {
   "cell_type": "markdown",
   "metadata": {},
   "source": [
    "- The XGBoost model was the best performer out of the five models giving us a mean accuracy score of 73.7%. \n",
    "- K-Fold cross validation was used to ensure no overfitting was done. "
   ]
  },
  {
   "cell_type": "code",
   "execution_count": 89,
   "metadata": {
    "execution": {
     "iopub.execute_input": "2023-02-08T06:58:13.542642Z",
     "iopub.status.busy": "2023-02-08T06:58:13.542129Z",
     "iopub.status.idle": "2023-02-08T06:58:13.564907Z",
     "shell.execute_reply": "2023-02-08T06:58:13.564328Z",
     "shell.execute_reply.started": "2023-02-08T06:58:13.542595Z"
    }
   },
   "outputs": [
    {
     "data": {
      "text/html": [
       "<div>\n",
       "<style scoped>\n",
       "    .dataframe tbody tr th:only-of-type {\n",
       "        vertical-align: middle;\n",
       "    }\n",
       "\n",
       "    .dataframe tbody tr th {\n",
       "        vertical-align: top;\n",
       "    }\n",
       "\n",
       "    .dataframe thead th {\n",
       "        text-align: right;\n",
       "    }\n",
       "</style>\n",
       "<table border=\"1\" class=\"dataframe\">\n",
       "  <thead>\n",
       "    <tr style=\"text-align: right;\">\n",
       "      <th></th>\n",
       "      <th>Mean Accuracy</th>\n",
       "    </tr>\n",
       "  </thead>\n",
       "  <tbody>\n",
       "    <tr>\n",
       "      <th>XGBoost</th>\n",
       "      <td>0.737174</td>\n",
       "    </tr>\n",
       "    <tr>\n",
       "      <th>SVM</th>\n",
       "      <td>0.727049</td>\n",
       "    </tr>\n",
       "    <tr>\n",
       "      <th>Random Forest</th>\n",
       "      <td>0.705510</td>\n",
       "    </tr>\n",
       "    <tr>\n",
       "      <th>KNN</th>\n",
       "      <td>0.674724</td>\n",
       "    </tr>\n",
       "    <tr>\n",
       "      <th>Naive Bayes</th>\n",
       "      <td>0.584244</td>\n",
       "    </tr>\n",
       "  </tbody>\n",
       "</table>\n",
       "</div>"
      ],
      "text/plain": [
       "               Mean Accuracy\n",
       "XGBoost             0.737174\n",
       "SVM                 0.727049\n",
       "Random Forest       0.705510\n",
       "KNN                 0.674724\n",
       "Naive Bayes         0.584244"
      ]
     },
     "execution_count": 89,
     "metadata": {},
     "output_type": "execute_result"
    }
   ],
   "source": [
    "model = ['Random Forest', 'SVM', 'KNN', 'Naive Bayes', 'XGBoost']\n",
    "scores = [accuracies_rfc.mean(),accuracies_svc.mean(),accuracies_knn.mean(),accuracies_nbc.mean(),accuracies_xgb.mean()]\n",
    "\n",
    "summary = pd.DataFrame(data=scores, index=model, columns=['Mean Accuracy'])\n",
    "summary.sort_values(by='Mean Accuracy', ascending=False)"
   ]
  }
 ],
 "metadata": {
  "kernelspec": {
   "display_name": "Python 3 (ipykernel)",
   "language": "python",
   "name": "python3"
  },
  "language_info": {
   "codemirror_mode": {
    "name": "ipython",
    "version": 3
   },
   "file_extension": ".py",
   "mimetype": "text/x-python",
   "name": "python",
   "nbconvert_exporter": "python",
   "pygments_lexer": "ipython3",
   "version": "3.9.13"
  }
 },
 "nbformat": 4,
 "nbformat_minor": 4
}
